{
 "cells": [
  {
   "cell_type": "code",
   "execution_count": 29,
   "id": "c70fa6d1",
   "metadata": {},
   "outputs": [],
   "source": [
    "import svgdigitizer\n",
    "from datapackage import Package\n",
    "\n",
    "\n",
    "import svgdigitizer\n",
    "import yaml\n",
    "from svgdigitizer.svgplot import SVGPlot\n",
    "from svgdigitizer.svg import SVG\n",
    "from svgdigitizer.electrochemistry.cv import CV\n",
    "import shutil\n",
    "import copy\n",
    "\n",
    "def cv_export(svg, sampling_interval, metadata):\n",
    "    import yaml\n",
    "    from svgdigitizer.svgplot import SVGPlot\n",
    "    from svgdigitizer.svg import SVG\n",
    "    from svgdigitizer.electrochemistry.cv import CV\n",
    "    print(metadata, bool(metadata))\n",
    "    if metadata:\n",
    "        with open(metadata,\"r\") as f:\n",
    "            metadata = yaml.load(f, Loader=yaml.SafeLoader)\n",
    "\n",
    "        \n",
    "    print(metadata, bool(metadata))\n",
    "    cv = CV(SVGPlot(SVG(open(svg, 'rb')), sampling_interval=sampling_interval), metadata=metadata)\n",
    "\n",
    "    from pathlib import Path\n",
    "    cv.df.to_csv(Path(svg).with_suffix('.csv'), index=False)\n",
    "    print(cv.metadata)\n",
    "    import datetime\n",
    "\n",
    "    def defaultconverter(o):\n",
    "        if isinstance(o, datetime.datetime):\n",
    "            return o.__str__()\n",
    "\n",
    "    import json\n",
    "    with open(Path(svg).with_suffix('.json'), \"w\") as outfile:\n",
    "        json.dump(cv.metadata, outfile, default=defaultconverter)"
   ]
  },
  {
   "cell_type": "code",
   "execution_count": 30,
   "id": "fb2379c0",
   "metadata": {},
   "outputs": [
    {
     "name": "stdout",
     "output_type": "stream",
     "text": [
      "\u001b[0m\u001b[01;32mbriega-martos_2021_cation_XXX_p2_Fig1_Cs_2.3.csv\u001b[0m*\r\n",
      "\u001b[01;32mbriega-martos_2021_cation_XXX_p2_Fig1_Cs_2.3.json\u001b[0m*\r\n",
      "\u001b[01;32mbriega-martos_2021_cation_XXX_p2_Fig1_Cs_2.3.svg\u001b[0m*\r\n",
      "\u001b[01;32mbriega-martos_2021_cation_XXX_p2_Fig1_Cs_2.3.yaml\u001b[0m*\r\n",
      "\u001b[01;32mbriega-martos_2021_cation_XXX_p2_Fig1_Cs_2.9.svg\u001b[0m*\r\n",
      "\u001b[01;32mbriega-martos_2021_cation_XXX_p2_Fig1_Cs_2.9.yaml\u001b[0m*\r\n",
      "\u001b[01;32mbriega-martos_2021_cation_XXX_p2_Fig1_Cs_3.5.svg\u001b[0m*\r\n",
      "\u001b[01;32mbriega-martos_2021_cation_XXX_p2_Fig1_Cs_3.5.yaml\u001b[0m*\r\n",
      "\u001b[01;32mbriega-martos_2021_cation_XXX_p2_Fig1_Cs_4.0.svg\u001b[0m*\r\n",
      "\u001b[01;32mbriega-martos_2021_cation_XXX_p2_Fig1_Cs_4.0.yaml\u001b[0m*\r\n",
      "\u001b[01;32mbriega-martos_2021_cation_XXX_p2_Fig1_Cs_4.4.svg\u001b[0m*\r\n",
      "\u001b[01;32mbriega-martos_2021_cation_XXX_p2_Fig1_Cs_4.4.yaml\u001b[0m*\r\n",
      "\u001b[01;32mbriega-martos_2021_cation_XXX_p2_Fig1_Li_2.3.svg\u001b[0m*\r\n",
      "\u001b[01;32mbriega-martos_2021_cation_XXX_p2_Fig1_Li_2.3.yaml\u001b[0m*\r\n",
      "\u001b[01;32mbriega-martos_2021_cation_XXX_p2_Fig1_Li_2.9.svg\u001b[0m*\r\n",
      "\u001b[01;32mbriega-martos_2021_cation_XXX_p2_Fig1_Li_2.9.yaml\u001b[0m*\r\n",
      "\u001b[01;32mbriega-martos_2021_cation_XXX_p2_Fig1_Li_3.5.svg\u001b[0m*\r\n",
      "\u001b[01;32mbriega-martos_2021_cation_XXX_p2_Fig1_Li_3.5.yaml\u001b[0m*\r\n",
      "\u001b[01;32mbriega-martos_2021_cation_XXX_p2_Fig1_Li_4.0.svg\u001b[0m*\r\n",
      "\u001b[01;32mbriega-martos_2021_cation_XXX_p2_Fig1_Li_4.0.yaml\u001b[0m*\r\n",
      "\u001b[01;32mbriega-martos_2021_cation_XXX_p2_Fig1_Li_4.4.svg\u001b[0m*\r\n",
      "\u001b[01;32mbriega-martos_2021_cation_XXX_p2_Fig1_Li_4.4.yaml\u001b[0m*\r\n",
      "\u001b[01;32mbriega-martos_2021_cation_XXX_p2_Fig1_Na_2.3.svg\u001b[0m*\r\n",
      "\u001b[01;32mbriega-martos_2021_cation_XXX_p2_Fig1_Na_2.3.yaml\u001b[0m*\r\n",
      "\u001b[01;32mbriega-martos_2021_cation_XXX_p2_Fig1_Na_2.9.svg\u001b[0m*\r\n",
      "\u001b[01;32mbriega-martos_2021_cation_XXX_p2_Fig1_Na_2.9.yaml\u001b[0m*\r\n",
      "\u001b[01;32mbriega-martos_2021_cation_XXX_p2_Fig1_Na_3.5.svg\u001b[0m*\r\n",
      "\u001b[01;32mbriega-martos_2021_cation_XXX_p2_Fig1_Na_3.5.yaml\u001b[0m*\r\n",
      "\u001b[01;32mbriega-martos_2021_cation_XXX_p2_Fig1_Na_4.0.svg\u001b[0m*\r\n",
      "\u001b[01;32mbriega-martos_2021_cation_XXX_p2_Fig1_Na_4.0.yaml\u001b[0m*\r\n",
      "\u001b[01;32mbriega-martos_2021_cation_XXX_p2_Fig1_Na_4.4.svg\u001b[0m*\r\n",
      "\u001b[01;32mbriega-martos_2021_cation_XXX_p2_Fig1_Na_4.4.yaml\u001b[0m*\r\n",
      "\u001b[01;32mbriega-martos_2021_cation_XXX.pdf\u001b[0m*\r\n",
      "\u001b[01;32mTest_convert.ipynb\u001b[0m*\r\n"
     ]
    }
   ],
   "source": [
    "ls"
   ]
  },
  {
   "cell_type": "code",
   "execution_count": 3,
   "id": "ba47460f",
   "metadata": {},
   "outputs": [
    {
     "name": "stdout",
     "output_type": "stream",
     "text": [
      "briega-martos_2021_cation_XXX_p2_Fig1_Cs_2.3.yaml True\n",
      "{'curator': {'digitized': datetime.date(2021, 9, 21), 'name': 'Nicolas Hoermann', 'orcid': 'https://orcid.org/0000-0001-6944-5575'}, 'electrochemical system': {'electrodes': {'configuration': 'three', 'counter electrode': {'crystallographic orientation': 'poly', 'material': 'Pt', 'shape': 'coiled wire'}, 'reference electrode': {'source': {'supplier': 'none'}, 'type': 'RHE'}, 'working electrode': {'crystallographic orientation': 111, 'geometric electrolyte contact area': {'unit': 'cm-2', 'value': None}, 'material': 'Pt', 'preparation procedure': None, 'shape': {'diameter': {'unit': 'mm', 'value': 2}, 'height': {'unit': 'mm', 'value': None}, 'type': 'bead'}, 'source': {'LOT': None, 'supplier': None}}}, 'electrolyte': {'components': [{'concentration': {'unit': 'M', 'value': 0.1}, 'name': 'CsF', 'source': {'supplier': 'Alfa Aesar, Puratronic 99.99% (metal basis)'}, 'sum formula': 'CsF', 'type': 'salt'}, {'name': 'water', 'source': {'comment': 'deoxigenated H2O2 solution (Fluka, TraceSELECT Ultra, for trace analysis).', 'quality': 'ultrapure water'}, 'sum formula': 'H2O', 'type': 'solvent'}, {'concentration': {'unit': 'M', 'value': None}, 'name': 'perchloric acid', 'source': {'LOT': None, 'supplier': 'Merck'}, 'sum formula': 'HClO4', 'type': 'acid'}], 'ph': {'uncertainty': None, 'value': 2.3}, 'temperature': {'unit': 'K', 'value': 298.15}, 'type': 'aq'}}, 'source': {'bib': 'briega-martos_2021_cation_XXX', 'curve': 'First cycle', 'doi': 'https://doi.org/10.1021/acsmeasuresciau.1c00004', 'figure': 1}, 'version': 1} True\n",
      "briega-martos_2021_cation_XXX_p2_Fig1_Cs_2.3.csv\n",
      "{'curator': {'digitized': datetime.date(2021, 9, 21), 'name': 'Nicolas Hoermann', 'orcid': 'https://orcid.org/0000-0001-6944-5575'}, 'electrochemical system': {'electrodes': {'configuration': 'three', 'counter electrode': {'crystallographic orientation': 'poly', 'material': 'Pt', 'shape': 'coiled wire'}, 'reference electrode': {'source': {'supplier': 'none'}, 'type': 'RHE'}, 'working electrode': {'crystallographic orientation': 111, 'geometric electrolyte contact area': {'unit': 'cm-2', 'value': None}, 'material': 'Pt', 'preparation procedure': None, 'shape': {'diameter': {'unit': 'mm', 'value': 2}, 'height': {'unit': 'mm', 'value': None}, 'type': 'bead'}, 'source': {'LOT': None, 'supplier': None}}}, 'electrolyte': {'components': [{'concentration': {'unit': 'M', 'value': 0.1}, 'name': 'CsF', 'source': {'supplier': 'Alfa Aesar, Puratronic 99.99% (metal basis)'}, 'sum formula': 'CsF', 'type': 'salt'}, {'name': 'water', 'source': {'comment': 'deoxigenated H2O2 solution (Fluka, TraceSELECT Ultra, for trace analysis).', 'quality': 'ultrapure water'}, 'sum formula': 'H2O', 'type': 'solvent'}, {'concentration': {'unit': 'M', 'value': None}, 'name': 'perchloric acid', 'source': {'LOT': None, 'supplier': 'Merck'}, 'sum formula': 'HClO4', 'type': 'acid'}], 'ph': {'uncertainty': None, 'value': 2.3}, 'temperature': {'unit': 'K', 'value': 298.15}, 'type': 'aq'}}, 'source': {'bib': 'briega-martos_2021_cation_XXX', 'curve': 'First cycle', 'doi': 'https://doi.org/10.1021/acsmeasuresciau.1c00004', 'figure': 1}, 'version': 1, 'figure description': {'type': 'digitized', 'measurement type': 'CV', 'scan rate': {'value': 50.0, 'unit': 'mV / s'}, 'potential scale': {'unit': 'V', 'reference': 'SHE'}, 'current': {'unit': 'uA / cm2'}, 'comment': ''}}\n",
      "dict_keys(['curator', 'electrochemical system', 'source', 'version', 'figure description', 'profile'])\n",
      "briega-martos_2021_cation_XXX_p2_Fig1_Cs_2.3 briega-martos_2021_cation_XXX_p2_Fig1_Cs_2.3.csv {'fields': [{'name': 't', 'type': 'number', 'format': 'default'}, {'name': 'U', 'type': 'number', 'format': 'default'}, {'name': 'j', 'type': 'number', 'format': 'default'}], 'missingValues': ['']}\n",
      "briega-martos_2021_cation_XXX_p2_Fig1_Cs_2.9.yaml True\n",
      "{'curator': {'digitized': datetime.date(2021, 9, 21), 'name': 'Nicolas Hoermann', 'orcid': 'https://orcid.org/0000-0001-6944-5575'}, 'electrochemical system': {'electrodes': {'configuration': 'three', 'counter electrode': {'crystallographic orientation': 'poly', 'material': 'Pt', 'shape': 'coiled wire'}, 'reference electrode': {'source': {'supplier': 'none'}, 'type': 'RHE'}, 'working electrode': {'crystallographic orientation': 111, 'geometric electrolyte contact area': {'unit': 'cm-2', 'value': None}, 'material': 'Pt', 'preparation procedure': None, 'shape': {'diameter': {'unit': 'mm', 'value': 2}, 'height': {'unit': 'mm', 'value': None}, 'type': 'bead'}, 'source': {'LOT': None, 'supplier': None}}}, 'electrolyte': {'components': [{'concentration': {'unit': 'M', 'value': 0.1}, 'name': 'CsF', 'source': {'supplier': 'Alfa Aesar, Puratronic 99.99% (metal basis)'}, 'sum formula': 'CsF', 'type': 'salt'}, {'name': 'water', 'source': {'comment': 'deoxigenated H2O2 solution (Fluka, TraceSELECT Ultra, for trace analysis).', 'quality': 'ultrapure water'}, 'sum formula': 'H2O', 'type': 'solvent'}, {'concentration': {'unit': 'M', 'value': None}, 'name': 'perchloric acid', 'source': {'LOT': None, 'supplier': 'Merck'}, 'sum formula': 'HClO4', 'type': 'acid'}], 'ph': {'uncertainty': None, 'value': 2.9}, 'temperature': {'unit': 'K', 'value': 298.15}, 'type': 'aq'}}, 'source': {'bib': 'briega-martos_2021_cation_XXX', 'curve': 'First cycle', 'doi': 'https://doi.org/10.1021/acsmeasuresciau.1c00004', 'figure': 1}, 'version': 1} True\n",
      "briega-martos_2021_cation_XXX_p2_Fig1_Cs_2.9.csv\n",
      "{'curator': {'digitized': datetime.date(2021, 9, 21), 'name': 'Nicolas Hoermann', 'orcid': 'https://orcid.org/0000-0001-6944-5575'}, 'electrochemical system': {'electrodes': {'configuration': 'three', 'counter electrode': {'crystallographic orientation': 'poly', 'material': 'Pt', 'shape': 'coiled wire'}, 'reference electrode': {'source': {'supplier': 'none'}, 'type': 'RHE'}, 'working electrode': {'crystallographic orientation': 111, 'geometric electrolyte contact area': {'unit': 'cm-2', 'value': None}, 'material': 'Pt', 'preparation procedure': None, 'shape': {'diameter': {'unit': 'mm', 'value': 2}, 'height': {'unit': 'mm', 'value': None}, 'type': 'bead'}, 'source': {'LOT': None, 'supplier': None}}}, 'electrolyte': {'components': [{'concentration': {'unit': 'M', 'value': 0.1}, 'name': 'CsF', 'source': {'supplier': 'Alfa Aesar, Puratronic 99.99% (metal basis)'}, 'sum formula': 'CsF', 'type': 'salt'}, {'name': 'water', 'source': {'comment': 'deoxigenated H2O2 solution (Fluka, TraceSELECT Ultra, for trace analysis).', 'quality': 'ultrapure water'}, 'sum formula': 'H2O', 'type': 'solvent'}, {'concentration': {'unit': 'M', 'value': None}, 'name': 'perchloric acid', 'source': {'LOT': None, 'supplier': 'Merck'}, 'sum formula': 'HClO4', 'type': 'acid'}], 'ph': {'uncertainty': None, 'value': 2.9}, 'temperature': {'unit': 'K', 'value': 298.15}, 'type': 'aq'}}, 'source': {'bib': 'briega-martos_2021_cation_XXX', 'curve': 'First cycle', 'doi': 'https://doi.org/10.1021/acsmeasuresciau.1c00004', 'figure': 1}, 'version': 1, 'figure description': {'type': 'digitized', 'measurement type': 'CV', 'scan rate': {'value': 50.0, 'unit': 'mV / s'}, 'potential scale': {'unit': 'V', 'reference': 'SHE'}, 'current': {'unit': 'uA / cm2'}, 'comment': ''}}\n",
      "dict_keys(['curator', 'electrochemical system', 'source', 'version', 'figure description', 'profile'])\n",
      "briega-martos_2021_cation_XXX_p2_Fig1_Cs_2.9 briega-martos_2021_cation_XXX_p2_Fig1_Cs_2.9.csv {'fields': [{'name': 't', 'type': 'number', 'format': 'default'}, {'name': 'U', 'type': 'number', 'format': 'default'}, {'name': 'j', 'type': 'number', 'format': 'default'}], 'missingValues': ['']}\n",
      "briega-martos_2021_cation_XXX_p2_Fig1_Cs_3.5.yaml True\n",
      "{'curator': {'digitized': datetime.date(2021, 9, 21), 'name': 'Nicolas Hoermann', 'orcid': 'https://orcid.org/0000-0001-6944-5575'}, 'electrochemical system': {'electrodes': {'configuration': 'three', 'counter electrode': {'crystallographic orientation': 'poly', 'material': 'Pt', 'shape': 'coiled wire'}, 'reference electrode': {'source': {'supplier': 'none'}, 'type': 'RHE'}, 'working electrode': {'crystallographic orientation': 111, 'geometric electrolyte contact area': {'unit': 'cm-2', 'value': None}, 'material': 'Pt', 'preparation procedure': None, 'shape': {'diameter': {'unit': 'mm', 'value': 2}, 'height': {'unit': 'mm', 'value': None}, 'type': 'bead'}, 'source': {'LOT': None, 'supplier': None}}}, 'electrolyte': {'components': [{'concentration': {'unit': 'M', 'value': 0.1}, 'name': 'CsF', 'source': {'supplier': 'Alfa Aesar, Puratronic 99.99% (metal basis)'}, 'sum formula': 'CsF', 'type': 'salt'}, {'name': 'water', 'source': {'comment': 'deoxigenated H2O2 solution (Fluka, TraceSELECT Ultra, for trace analysis).', 'quality': 'ultrapure water'}, 'sum formula': 'H2O', 'type': 'solvent'}, {'concentration': {'unit': 'M', 'value': None}, 'name': 'perchloric acid', 'source': {'LOT': None, 'supplier': 'Merck'}, 'sum formula': 'HClO4', 'type': 'acid'}], 'ph': {'uncertainty': None, 'value': 3.5}, 'temperature': {'unit': 'K', 'value': 298.15}, 'type': 'aq'}}, 'source': {'bib': 'briega-martos_2021_cation_XXX', 'curve': 'First cycle', 'doi': 'https://doi.org/10.1021/acsmeasuresciau.1c00004', 'figure': 1}, 'version': 1} True\n",
      "briega-martos_2021_cation_XXX_p2_Fig1_Cs_3.5.csv\n"
     ]
    },
    {
     "name": "stdout",
     "output_type": "stream",
     "text": [
      "{'curator': {'digitized': datetime.date(2021, 9, 21), 'name': 'Nicolas Hoermann', 'orcid': 'https://orcid.org/0000-0001-6944-5575'}, 'electrochemical system': {'electrodes': {'configuration': 'three', 'counter electrode': {'crystallographic orientation': 'poly', 'material': 'Pt', 'shape': 'coiled wire'}, 'reference electrode': {'source': {'supplier': 'none'}, 'type': 'RHE'}, 'working electrode': {'crystallographic orientation': 111, 'geometric electrolyte contact area': {'unit': 'cm-2', 'value': None}, 'material': 'Pt', 'preparation procedure': None, 'shape': {'diameter': {'unit': 'mm', 'value': 2}, 'height': {'unit': 'mm', 'value': None}, 'type': 'bead'}, 'source': {'LOT': None, 'supplier': None}}}, 'electrolyte': {'components': [{'concentration': {'unit': 'M', 'value': 0.1}, 'name': 'CsF', 'source': {'supplier': 'Alfa Aesar, Puratronic 99.99% (metal basis)'}, 'sum formula': 'CsF', 'type': 'salt'}, {'name': 'water', 'source': {'comment': 'deoxigenated H2O2 solution (Fluka, TraceSELECT Ultra, for trace analysis).', 'quality': 'ultrapure water'}, 'sum formula': 'H2O', 'type': 'solvent'}, {'concentration': {'unit': 'M', 'value': None}, 'name': 'perchloric acid', 'source': {'LOT': None, 'supplier': 'Merck'}, 'sum formula': 'HClO4', 'type': 'acid'}], 'ph': {'uncertainty': None, 'value': 3.5}, 'temperature': {'unit': 'K', 'value': 298.15}, 'type': 'aq'}}, 'source': {'bib': 'briega-martos_2021_cation_XXX', 'curve': 'First cycle', 'doi': 'https://doi.org/10.1021/acsmeasuresciau.1c00004', 'figure': 1}, 'version': 1, 'figure description': {'type': 'digitized', 'measurement type': 'CV', 'scan rate': {'value': 50.0, 'unit': 'mV / s'}, 'potential scale': {'unit': 'V', 'reference': 'SHE'}, 'current': {'unit': 'uA / cm2'}, 'comment': ''}}\n",
      "dict_keys(['curator', 'electrochemical system', 'source', 'version', 'figure description', 'profile'])\n",
      "briega-martos_2021_cation_XXX_p2_Fig1_Cs_3.5 briega-martos_2021_cation_XXX_p2_Fig1_Cs_3.5.csv {'fields': [{'name': 't', 'type': 'number', 'format': 'default'}, {'name': 'U', 'type': 'number', 'format': 'default'}, {'name': 'j', 'type': 'number', 'format': 'default'}], 'missingValues': ['']}\n",
      "briega-martos_2021_cation_XXX_p2_Fig1_Cs_4.0.yaml True\n",
      "{'curator': {'digitized': datetime.date(2021, 9, 21), 'name': 'Nicolas Hoermann', 'orcid': 'https://orcid.org/0000-0001-6944-5575'}, 'electrochemical system': {'electrodes': {'configuration': 'three', 'counter electrode': {'crystallographic orientation': 'poly', 'material': 'Pt', 'shape': 'coiled wire'}, 'reference electrode': {'source': {'supplier': 'none'}, 'type': 'RHE'}, 'working electrode': {'crystallographic orientation': 111, 'geometric electrolyte contact area': {'unit': 'cm-2', 'value': None}, 'material': 'Pt', 'preparation procedure': None, 'shape': {'diameter': {'unit': 'mm', 'value': 2}, 'height': {'unit': 'mm', 'value': None}, 'type': 'bead'}, 'source': {'LOT': None, 'supplier': None}}}, 'electrolyte': {'components': [{'concentration': {'unit': 'M', 'value': 0.1}, 'name': 'CsF', 'source': {'supplier': 'Alfa Aesar, Puratronic 99.99% (metal basis)'}, 'sum formula': 'CsF', 'type': 'salt'}, {'name': 'water', 'source': {'comment': 'deoxigenated H2O2 solution (Fluka, TraceSELECT Ultra, for trace analysis).', 'quality': 'ultrapure water'}, 'sum formula': 'H2O', 'type': 'solvent'}, {'concentration': {'unit': 'M', 'value': None}, 'name': 'perchloric acid', 'source': {'LOT': None, 'supplier': 'Merck'}, 'sum formula': 'HClO4', 'type': 'acid'}], 'ph': {'uncertainty': None, 'value': 4.0}, 'temperature': {'unit': 'K', 'value': 298.15}, 'type': 'aq'}}, 'source': {'bib': 'briega-martos_2021_cation_XXX', 'curve': 'First cycle', 'doi': 'https://doi.org/10.1021/acsmeasuresciau.1c00004', 'figure': 1}, 'version': 1} True\n",
      "briega-martos_2021_cation_XXX_p2_Fig1_Cs_4.0.csv\n",
      "{'curator': {'digitized': datetime.date(2021, 9, 21), 'name': 'Nicolas Hoermann', 'orcid': 'https://orcid.org/0000-0001-6944-5575'}, 'electrochemical system': {'electrodes': {'configuration': 'three', 'counter electrode': {'crystallographic orientation': 'poly', 'material': 'Pt', 'shape': 'coiled wire'}, 'reference electrode': {'source': {'supplier': 'none'}, 'type': 'RHE'}, 'working electrode': {'crystallographic orientation': 111, 'geometric electrolyte contact area': {'unit': 'cm-2', 'value': None}, 'material': 'Pt', 'preparation procedure': None, 'shape': {'diameter': {'unit': 'mm', 'value': 2}, 'height': {'unit': 'mm', 'value': None}, 'type': 'bead'}, 'source': {'LOT': None, 'supplier': None}}}, 'electrolyte': {'components': [{'concentration': {'unit': 'M', 'value': 0.1}, 'name': 'CsF', 'source': {'supplier': 'Alfa Aesar, Puratronic 99.99% (metal basis)'}, 'sum formula': 'CsF', 'type': 'salt'}, {'name': 'water', 'source': {'comment': 'deoxigenated H2O2 solution (Fluka, TraceSELECT Ultra, for trace analysis).', 'quality': 'ultrapure water'}, 'sum formula': 'H2O', 'type': 'solvent'}, {'concentration': {'unit': 'M', 'value': None}, 'name': 'perchloric acid', 'source': {'LOT': None, 'supplier': 'Merck'}, 'sum formula': 'HClO4', 'type': 'acid'}], 'ph': {'uncertainty': None, 'value': 4.0}, 'temperature': {'unit': 'K', 'value': 298.15}, 'type': 'aq'}}, 'source': {'bib': 'briega-martos_2021_cation_XXX', 'curve': 'First cycle', 'doi': 'https://doi.org/10.1021/acsmeasuresciau.1c00004', 'figure': 1}, 'version': 1, 'figure description': {'type': 'digitized', 'measurement type': 'CV', 'scan rate': {'value': 50.0, 'unit': 'mV / s'}, 'potential scale': {'unit': 'V', 'reference': 'SHE'}, 'current': {'unit': 'uA / cm2'}, 'comment': ''}}\n",
      "dict_keys(['curator', 'electrochemical system', 'source', 'version', 'figure description', 'profile'])\n",
      "briega-martos_2021_cation_XXX_p2_Fig1_Cs_4.0 briega-martos_2021_cation_XXX_p2_Fig1_Cs_4.0.csv {'fields': [{'name': 't', 'type': 'number', 'format': 'default'}, {'name': 'U', 'type': 'number', 'format': 'default'}, {'name': 'j', 'type': 'number', 'format': 'default'}], 'missingValues': ['']}\n",
      "briega-martos_2021_cation_XXX_p2_Fig1_Cs_4.4.yaml True\n",
      "{'curator': {'digitized': datetime.date(2021, 9, 21), 'name': 'Nicolas Hoermann', 'orcid': 'https://orcid.org/0000-0001-6944-5575'}, 'electrochemical system': {'electrodes': {'configuration': 'three', 'counter electrode': {'crystallographic orientation': 'poly', 'material': 'Pt', 'shape': 'coiled wire'}, 'reference electrode': {'source': {'supplier': 'none'}, 'type': 'RHE'}, 'working electrode': {'crystallographic orientation': 111, 'geometric electrolyte contact area': {'unit': 'cm-2', 'value': None}, 'material': 'Pt', 'preparation procedure': None, 'shape': {'diameter': {'unit': 'mm', 'value': 2}, 'height': {'unit': 'mm', 'value': None}, 'type': 'bead'}, 'source': {'LOT': None, 'supplier': None}}}, 'electrolyte': {'components': [{'concentration': {'unit': 'M', 'value': 0.1}, 'name': 'CsF', 'source': {'supplier': 'Alfa Aesar, Puratronic 99.99% (metal basis)'}, 'sum formula': 'CsF', 'type': 'salt'}, {'name': 'water', 'source': {'comment': 'deoxigenated H2O2 solution (Fluka, TraceSELECT Ultra, for trace analysis).', 'quality': 'ultrapure water'}, 'sum formula': 'H2O', 'type': 'solvent'}, {'concentration': {'unit': 'M', 'value': None}, 'name': 'perchloric acid', 'source': {'LOT': None, 'supplier': 'Merck'}, 'sum formula': 'HClO4', 'type': 'acid'}], 'ph': {'uncertainty': None, 'value': 4.4}, 'temperature': {'unit': 'K', 'value': 298.15}, 'type': 'aq'}}, 'source': {'bib': 'briega-martos_2021_cation_XXX', 'curve': 'First cycle', 'doi': 'https://doi.org/10.1021/acsmeasuresciau.1c00004', 'figure': 1}, 'version': 1} True\n",
      "briega-martos_2021_cation_XXX_p2_Fig1_Cs_4.4.csv\n",
      "{'curator': {'digitized': datetime.date(2021, 9, 21), 'name': 'Nicolas Hoermann', 'orcid': 'https://orcid.org/0000-0001-6944-5575'}, 'electrochemical system': {'electrodes': {'configuration': 'three', 'counter electrode': {'crystallographic orientation': 'poly', 'material': 'Pt', 'shape': 'coiled wire'}, 'reference electrode': {'source': {'supplier': 'none'}, 'type': 'RHE'}, 'working electrode': {'crystallographic orientation': 111, 'geometric electrolyte contact area': {'unit': 'cm-2', 'value': None}, 'material': 'Pt', 'preparation procedure': None, 'shape': {'diameter': {'unit': 'mm', 'value': 2}, 'height': {'unit': 'mm', 'value': None}, 'type': 'bead'}, 'source': {'LOT': None, 'supplier': None}}}, 'electrolyte': {'components': [{'concentration': {'unit': 'M', 'value': 0.1}, 'name': 'CsF', 'source': {'supplier': 'Alfa Aesar, Puratronic 99.99% (metal basis)'}, 'sum formula': 'CsF', 'type': 'salt'}, {'name': 'water', 'source': {'comment': 'deoxigenated H2O2 solution (Fluka, TraceSELECT Ultra, for trace analysis).', 'quality': 'ultrapure water'}, 'sum formula': 'H2O', 'type': 'solvent'}, {'concentration': {'unit': 'M', 'value': None}, 'name': 'perchloric acid', 'source': {'LOT': None, 'supplier': 'Merck'}, 'sum formula': 'HClO4', 'type': 'acid'}], 'ph': {'uncertainty': None, 'value': 4.4}, 'temperature': {'unit': 'K', 'value': 298.15}, 'type': 'aq'}}, 'source': {'bib': 'briega-martos_2021_cation_XXX', 'curve': 'First cycle', 'doi': 'https://doi.org/10.1021/acsmeasuresciau.1c00004', 'figure': 1}, 'version': 1, 'figure description': {'type': 'digitized', 'measurement type': 'CV', 'scan rate': {'value': 50.0, 'unit': 'mV / s'}, 'potential scale': {'unit': 'V', 'reference': 'SHE'}, 'current': {'unit': 'uA / cm2'}, 'comment': ''}}\n",
      "dict_keys(['curator', 'electrochemical system', 'source', 'version', 'figure description', 'profile'])\n",
      "briega-martos_2021_cation_XXX_p2_Fig1_Cs_4.4 briega-martos_2021_cation_XXX_p2_Fig1_Cs_4.4.csv {'fields': [{'name': 't', 'type': 'number', 'format': 'default'}, {'name': 'U', 'type': 'number', 'format': 'default'}, {'name': 'j', 'type': 'number', 'format': 'default'}], 'missingValues': ['']}\n",
      "briega-martos_2021_cation_XXX_p2_Fig1_Li_2.3.yaml True\n",
      "{'curator': {'digitized': datetime.date(2021, 9, 21), 'name': 'Nicolas Hoermann', 'orcid': 'https://orcid.org/0000-0001-6944-5575'}, 'electrochemical system': {'electrodes': {'configuration': 'three', 'counter electrode': {'crystallographic orientation': 'poly', 'material': 'Pt', 'shape': 'coiled wire'}, 'reference electrode': {'source': {'supplier': 'none'}, 'type': 'RHE'}, 'working electrode': {'crystallographic orientation': 111, 'geometric electrolyte contact area': {'unit': 'cm-2', 'value': None}, 'material': 'Pt', 'preparation procedure': None, 'shape': {'diameter': {'unit': 'mm', 'value': 2}, 'height': {'unit': 'mm', 'value': None}, 'type': 'bead'}, 'source': {'LOT': None, 'supplier': None}}}, 'electrolyte': {'components': [{'concentration': {'unit': 'M', 'value': 0.04}, 'name': 'LiF', 'source': {'supplier': 'Merck, Suprapur, 99.99%'}, 'sum formula': 'LiF', 'type': 'salt'}, {'name': 'water', 'source': {'comment': 'deoxigenated H2O2 solution (Fluka, TraceSELECT Ultra, for trace analysis).', 'quality': 'ultrapure water'}, 'sum formula': 'H2O', 'type': 'solvent'}, {'concentration': {'unit': 'M', 'value': None}, 'name': 'perchloric acid', 'source': {'LOT': None, 'supplier': 'Merck'}, 'sum formula': 'HClO4', 'type': 'acid'}], 'ph': {'uncertainty': None, 'value': 2.3}, 'temperature': {'unit': 'K', 'value': 298.15}, 'type': 'aq'}}, 'source': {'bib': 'briega-martos_2021_cation_XXX', 'curve': 'First cycle', 'doi': 'https://doi.org/10.1021/acsmeasuresciau.1c00004', 'figure': 1}, 'version': 1} True\n",
      "briega-martos_2021_cation_XXX_p2_Fig1_Li_2.3.csv\n"
     ]
    },
    {
     "name": "stdout",
     "output_type": "stream",
     "text": [
      "{'curator': {'digitized': datetime.date(2021, 9, 21), 'name': 'Nicolas Hoermann', 'orcid': 'https://orcid.org/0000-0001-6944-5575'}, 'electrochemical system': {'electrodes': {'configuration': 'three', 'counter electrode': {'crystallographic orientation': 'poly', 'material': 'Pt', 'shape': 'coiled wire'}, 'reference electrode': {'source': {'supplier': 'none'}, 'type': 'RHE'}, 'working electrode': {'crystallographic orientation': 111, 'geometric electrolyte contact area': {'unit': 'cm-2', 'value': None}, 'material': 'Pt', 'preparation procedure': None, 'shape': {'diameter': {'unit': 'mm', 'value': 2}, 'height': {'unit': 'mm', 'value': None}, 'type': 'bead'}, 'source': {'LOT': None, 'supplier': None}}}, 'electrolyte': {'components': [{'concentration': {'unit': 'M', 'value': 0.04}, 'name': 'LiF', 'source': {'supplier': 'Merck, Suprapur, 99.99%'}, 'sum formula': 'LiF', 'type': 'salt'}, {'name': 'water', 'source': {'comment': 'deoxigenated H2O2 solution (Fluka, TraceSELECT Ultra, for trace analysis).', 'quality': 'ultrapure water'}, 'sum formula': 'H2O', 'type': 'solvent'}, {'concentration': {'unit': 'M', 'value': None}, 'name': 'perchloric acid', 'source': {'LOT': None, 'supplier': 'Merck'}, 'sum formula': 'HClO4', 'type': 'acid'}], 'ph': {'uncertainty': None, 'value': 2.3}, 'temperature': {'unit': 'K', 'value': 298.15}, 'type': 'aq'}}, 'source': {'bib': 'briega-martos_2021_cation_XXX', 'curve': 'First cycle', 'doi': 'https://doi.org/10.1021/acsmeasuresciau.1c00004', 'figure': 1}, 'version': 1, 'figure description': {'type': 'digitized', 'measurement type': 'CV', 'scan rate': {'value': 50.0, 'unit': 'mV / s'}, 'potential scale': {'unit': 'V', 'reference': 'SHE'}, 'current': {'unit': 'uA / cm2'}, 'comment': ''}}\n",
      "dict_keys(['curator', 'electrochemical system', 'source', 'version', 'figure description', 'profile'])\n",
      "briega-martos_2021_cation_XXX_p2_Fig1_Li_2.3 briega-martos_2021_cation_XXX_p2_Fig1_Li_2.3.csv {'fields': [{'name': 't', 'type': 'number', 'format': 'default'}, {'name': 'U', 'type': 'number', 'format': 'default'}, {'name': 'j', 'type': 'number', 'format': 'default'}], 'missingValues': ['']}\n",
      "briega-martos_2021_cation_XXX_p2_Fig1_Li_2.9.yaml True\n",
      "{'curator': {'digitized': datetime.date(2021, 9, 21), 'name': 'Nicolas Hoermann', 'orcid': 'https://orcid.org/0000-0001-6944-5575'}, 'electrochemical system': {'electrodes': {'configuration': 'three', 'counter electrode': {'crystallographic orientation': 'poly', 'material': 'Pt', 'shape': 'coiled wire'}, 'reference electrode': {'source': {'supplier': 'none'}, 'type': 'RHE'}, 'working electrode': {'crystallographic orientation': 111, 'geometric electrolyte contact area': {'unit': 'cm-2', 'value': None}, 'material': 'Pt', 'preparation procedure': None, 'shape': {'diameter': {'unit': 'mm', 'value': 2}, 'height': {'unit': 'mm', 'value': None}, 'type': 'bead'}, 'source': {'LOT': None, 'supplier': None}}}, 'electrolyte': {'components': [{'concentration': {'unit': 'M', 'value': 0.04}, 'name': 'LiF', 'source': {'supplier': 'Merck, Suprapur, 99.99%'}, 'sum formula': 'LiF', 'type': 'salt'}, {'name': 'water', 'source': {'comment': 'deoxigenated H2O2 solution (Fluka, TraceSELECT Ultra, for trace analysis).', 'quality': 'ultrapure water'}, 'sum formula': 'H2O', 'type': 'solvent'}, {'concentration': {'unit': 'M', 'value': None}, 'name': 'perchloric acid', 'source': {'LOT': None, 'supplier': 'Merck'}, 'sum formula': 'HClO4', 'type': 'acid'}], 'ph': {'uncertainty': None, 'value': 2.9}, 'temperature': {'unit': 'K', 'value': 298.15}, 'type': 'aq'}}, 'source': {'bib': 'briega-martos_2021_cation_XXX', 'curve': 'First cycle', 'doi': 'https://doi.org/10.1021/acsmeasuresciau.1c00004', 'figure': 1}, 'version': 1} True\n",
      "briega-martos_2021_cation_XXX_p2_Fig1_Li_2.9.csv\n",
      "{'curator': {'digitized': datetime.date(2021, 9, 21), 'name': 'Nicolas Hoermann', 'orcid': 'https://orcid.org/0000-0001-6944-5575'}, 'electrochemical system': {'electrodes': {'configuration': 'three', 'counter electrode': {'crystallographic orientation': 'poly', 'material': 'Pt', 'shape': 'coiled wire'}, 'reference electrode': {'source': {'supplier': 'none'}, 'type': 'RHE'}, 'working electrode': {'crystallographic orientation': 111, 'geometric electrolyte contact area': {'unit': 'cm-2', 'value': None}, 'material': 'Pt', 'preparation procedure': None, 'shape': {'diameter': {'unit': 'mm', 'value': 2}, 'height': {'unit': 'mm', 'value': None}, 'type': 'bead'}, 'source': {'LOT': None, 'supplier': None}}}, 'electrolyte': {'components': [{'concentration': {'unit': 'M', 'value': 0.04}, 'name': 'LiF', 'source': {'supplier': 'Merck, Suprapur, 99.99%'}, 'sum formula': 'LiF', 'type': 'salt'}, {'name': 'water', 'source': {'comment': 'deoxigenated H2O2 solution (Fluka, TraceSELECT Ultra, for trace analysis).', 'quality': 'ultrapure water'}, 'sum formula': 'H2O', 'type': 'solvent'}, {'concentration': {'unit': 'M', 'value': None}, 'name': 'perchloric acid', 'source': {'LOT': None, 'supplier': 'Merck'}, 'sum formula': 'HClO4', 'type': 'acid'}], 'ph': {'uncertainty': None, 'value': 2.9}, 'temperature': {'unit': 'K', 'value': 298.15}, 'type': 'aq'}}, 'source': {'bib': 'briega-martos_2021_cation_XXX', 'curve': 'First cycle', 'doi': 'https://doi.org/10.1021/acsmeasuresciau.1c00004', 'figure': 1}, 'version': 1, 'figure description': {'type': 'digitized', 'measurement type': 'CV', 'scan rate': {'value': 50.0, 'unit': 'mV / s'}, 'potential scale': {'unit': 'V', 'reference': 'SHE'}, 'current': {'unit': 'uA / cm2'}, 'comment': ''}}\n",
      "dict_keys(['curator', 'electrochemical system', 'source', 'version', 'figure description', 'profile'])\n",
      "briega-martos_2021_cation_XXX_p2_Fig1_Li_2.9 briega-martos_2021_cation_XXX_p2_Fig1_Li_2.9.csv {'fields': [{'name': 't', 'type': 'number', 'format': 'default'}, {'name': 'U', 'type': 'number', 'format': 'default'}, {'name': 'j', 'type': 'number', 'format': 'default'}], 'missingValues': ['']}\n",
      "briega-martos_2021_cation_XXX_p2_Fig1_Li_3.5.yaml True\n",
      "{'curator': {'digitized': datetime.date(2021, 9, 21), 'name': 'Nicolas Hoermann', 'orcid': 'https://orcid.org/0000-0001-6944-5575'}, 'electrochemical system': {'electrodes': {'configuration': 'three', 'counter electrode': {'crystallographic orientation': 'poly', 'material': 'Pt', 'shape': 'coiled wire'}, 'reference electrode': {'source': {'supplier': 'none'}, 'type': 'RHE'}, 'working electrode': {'crystallographic orientation': 111, 'geometric electrolyte contact area': {'unit': 'cm-2', 'value': None}, 'material': 'Pt', 'preparation procedure': None, 'shape': {'diameter': {'unit': 'mm', 'value': 2}, 'height': {'unit': 'mm', 'value': None}, 'type': 'bead'}, 'source': {'LOT': None, 'supplier': None}}}, 'electrolyte': {'components': [{'concentration': {'unit': 'M', 'value': 0.04}, 'name': 'LiF', 'source': {'supplier': 'Merck, Suprapur, 99.99%'}, 'sum formula': 'LiF', 'type': 'salt'}, {'name': 'water', 'source': {'comment': 'deoxigenated H2O2 solution (Fluka, TraceSELECT Ultra, for trace analysis).', 'quality': 'ultrapure water'}, 'sum formula': 'H2O', 'type': 'solvent'}, {'concentration': {'unit': 'M', 'value': None}, 'name': 'perchloric acid', 'source': {'LOT': None, 'supplier': 'Merck'}, 'sum formula': 'HClO4', 'type': 'acid'}], 'ph': {'uncertainty': None, 'value': 3.5}, 'temperature': {'unit': 'K', 'value': 298.15}, 'type': 'aq'}}, 'source': {'bib': 'briega-martos_2021_cation_XXX', 'curve': 'First cycle', 'doi': 'https://doi.org/10.1021/acsmeasuresciau.1c00004', 'figure': 1}, 'version': 1} True\n",
      "briega-martos_2021_cation_XXX_p2_Fig1_Li_3.5.csv\n",
      "{'curator': {'digitized': datetime.date(2021, 9, 21), 'name': 'Nicolas Hoermann', 'orcid': 'https://orcid.org/0000-0001-6944-5575'}, 'electrochemical system': {'electrodes': {'configuration': 'three', 'counter electrode': {'crystallographic orientation': 'poly', 'material': 'Pt', 'shape': 'coiled wire'}, 'reference electrode': {'source': {'supplier': 'none'}, 'type': 'RHE'}, 'working electrode': {'crystallographic orientation': 111, 'geometric electrolyte contact area': {'unit': 'cm-2', 'value': None}, 'material': 'Pt', 'preparation procedure': None, 'shape': {'diameter': {'unit': 'mm', 'value': 2}, 'height': {'unit': 'mm', 'value': None}, 'type': 'bead'}, 'source': {'LOT': None, 'supplier': None}}}, 'electrolyte': {'components': [{'concentration': {'unit': 'M', 'value': 0.04}, 'name': 'LiF', 'source': {'supplier': 'Merck, Suprapur, 99.99%'}, 'sum formula': 'LiF', 'type': 'salt'}, {'name': 'water', 'source': {'comment': 'deoxigenated H2O2 solution (Fluka, TraceSELECT Ultra, for trace analysis).', 'quality': 'ultrapure water'}, 'sum formula': 'H2O', 'type': 'solvent'}, {'concentration': {'unit': 'M', 'value': None}, 'name': 'perchloric acid', 'source': {'LOT': None, 'supplier': 'Merck'}, 'sum formula': 'HClO4', 'type': 'acid'}], 'ph': {'uncertainty': None, 'value': 3.5}, 'temperature': {'unit': 'K', 'value': 298.15}, 'type': 'aq'}}, 'source': {'bib': 'briega-martos_2021_cation_XXX', 'curve': 'First cycle', 'doi': 'https://doi.org/10.1021/acsmeasuresciau.1c00004', 'figure': 1}, 'version': 1, 'figure description': {'type': 'digitized', 'measurement type': 'CV', 'scan rate': {'value': 50.0, 'unit': 'mV / s'}, 'potential scale': {'unit': 'V', 'reference': 'SHE'}, 'current': {'unit': 'uA / cm2'}, 'comment': ''}}\n",
      "dict_keys(['curator', 'electrochemical system', 'source', 'version', 'figure description', 'profile'])\n",
      "briega-martos_2021_cation_XXX_p2_Fig1_Li_3.5 briega-martos_2021_cation_XXX_p2_Fig1_Li_3.5.csv {'fields': [{'name': 't', 'type': 'number', 'format': 'default'}, {'name': 'U', 'type': 'number', 'format': 'default'}, {'name': 'j', 'type': 'number', 'format': 'default'}], 'missingValues': ['']}\n",
      "briega-martos_2021_cation_XXX_p2_Fig1_Li_4.0.yaml True\n",
      "{'curator': {'digitized': datetime.date(2021, 9, 21), 'name': 'Nicolas Hoermann', 'orcid': 'https://orcid.org/0000-0001-6944-5575'}, 'electrochemical system': {'electrodes': {'configuration': 'three', 'counter electrode': {'crystallographic orientation': 'poly', 'material': 'Pt', 'shape': 'coiled wire'}, 'reference electrode': {'source': {'supplier': 'none'}, 'type': 'RHE'}, 'working electrode': {'crystallographic orientation': 111, 'geometric electrolyte contact area': {'unit': 'cm-2', 'value': None}, 'material': 'Pt', 'preparation procedure': None, 'shape': {'diameter': {'unit': 'mm', 'value': 2}, 'height': {'unit': 'mm', 'value': None}, 'type': 'bead'}, 'source': {'LOT': None, 'supplier': None}}}, 'electrolyte': {'components': [{'concentration': {'unit': 'M', 'value': 0.04}, 'name': 'LiF', 'source': {'supplier': 'Merck, Suprapur, 99.99%'}, 'sum formula': 'LiF', 'type': 'salt'}, {'name': 'water', 'source': {'comment': 'deoxigenated H2O2 solution (Fluka, TraceSELECT Ultra, for trace analysis).', 'quality': 'ultrapure water'}, 'sum formula': 'H2O', 'type': 'solvent'}, {'concentration': {'unit': 'M', 'value': None}, 'name': 'perchloric acid', 'source': {'LOT': None, 'supplier': 'Merck'}, 'sum formula': 'HClO4', 'type': 'acid'}], 'ph': {'uncertainty': None, 'value': 4.0}, 'temperature': {'unit': 'K', 'value': 298.15}, 'type': 'aq'}}, 'source': {'bib': 'briega-martos_2021_cation_XXX', 'curve': 'First cycle', 'doi': 'https://doi.org/10.1021/acsmeasuresciau.1c00004', 'figure': 1}, 'version': 1} True\n",
      "briega-martos_2021_cation_XXX_p2_Fig1_Li_4.0.csv\n"
     ]
    },
    {
     "name": "stdout",
     "output_type": "stream",
     "text": [
      "{'curator': {'digitized': datetime.date(2021, 9, 21), 'name': 'Nicolas Hoermann', 'orcid': 'https://orcid.org/0000-0001-6944-5575'}, 'electrochemical system': {'electrodes': {'configuration': 'three', 'counter electrode': {'crystallographic orientation': 'poly', 'material': 'Pt', 'shape': 'coiled wire'}, 'reference electrode': {'source': {'supplier': 'none'}, 'type': 'RHE'}, 'working electrode': {'crystallographic orientation': 111, 'geometric electrolyte contact area': {'unit': 'cm-2', 'value': None}, 'material': 'Pt', 'preparation procedure': None, 'shape': {'diameter': {'unit': 'mm', 'value': 2}, 'height': {'unit': 'mm', 'value': None}, 'type': 'bead'}, 'source': {'LOT': None, 'supplier': None}}}, 'electrolyte': {'components': [{'concentration': {'unit': 'M', 'value': 0.04}, 'name': 'LiF', 'source': {'supplier': 'Merck, Suprapur, 99.99%'}, 'sum formula': 'LiF', 'type': 'salt'}, {'name': 'water', 'source': {'comment': 'deoxigenated H2O2 solution (Fluka, TraceSELECT Ultra, for trace analysis).', 'quality': 'ultrapure water'}, 'sum formula': 'H2O', 'type': 'solvent'}, {'concentration': {'unit': 'M', 'value': None}, 'name': 'perchloric acid', 'source': {'LOT': None, 'supplier': 'Merck'}, 'sum formula': 'HClO4', 'type': 'acid'}], 'ph': {'uncertainty': None, 'value': 4.0}, 'temperature': {'unit': 'K', 'value': 298.15}, 'type': 'aq'}}, 'source': {'bib': 'briega-martos_2021_cation_XXX', 'curve': 'First cycle', 'doi': 'https://doi.org/10.1021/acsmeasuresciau.1c00004', 'figure': 1}, 'version': 1, 'figure description': {'type': 'digitized', 'measurement type': 'CV', 'scan rate': {'value': 50.0, 'unit': 'mV / s'}, 'potential scale': {'unit': 'V', 'reference': 'SHE'}, 'current': {'unit': 'uA / cm2'}, 'comment': ''}}\n",
      "dict_keys(['curator', 'electrochemical system', 'source', 'version', 'figure description', 'profile'])\n",
      "briega-martos_2021_cation_XXX_p2_Fig1_Li_4.0 briega-martos_2021_cation_XXX_p2_Fig1_Li_4.0.csv {'fields': [{'name': 't', 'type': 'number', 'format': 'default'}, {'name': 'U', 'type': 'number', 'format': 'default'}, {'name': 'j', 'type': 'number', 'format': 'default'}], 'missingValues': ['']}\n",
      "briega-martos_2021_cation_XXX_p2_Fig1_Li_4.4.yaml True\n",
      "{'curator': {'digitized': datetime.date(2021, 9, 21), 'name': 'Nicolas Hoermann', 'orcid': 'https://orcid.org/0000-0001-6944-5575'}, 'electrochemical system': {'electrodes': {'configuration': 'three', 'counter electrode': {'crystallographic orientation': 'poly', 'material': 'Pt', 'shape': 'coiled wire'}, 'reference electrode': {'source': {'supplier': 'none'}, 'type': 'RHE'}, 'working electrode': {'crystallographic orientation': 111, 'geometric electrolyte contact area': {'unit': 'cm-2', 'value': None}, 'material': 'Pt', 'preparation procedure': None, 'shape': {'diameter': {'unit': 'mm', 'value': 2}, 'height': {'unit': 'mm', 'value': None}, 'type': 'bead'}, 'source': {'LOT': None, 'supplier': None}}}, 'electrolyte': {'components': [{'concentration': {'unit': 'M', 'value': 0.04}, 'name': 'LiF', 'source': {'supplier': 'Merck, Suprapur, 99.99%'}, 'sum formula': 'LiF', 'type': 'salt'}, {'name': 'water', 'source': {'comment': 'deoxigenated H2O2 solution (Fluka, TraceSELECT Ultra, for trace analysis).', 'quality': 'ultrapure water'}, 'sum formula': 'H2O', 'type': 'solvent'}, {'concentration': {'unit': 'M', 'value': None}, 'name': 'perchloric acid', 'source': {'LOT': None, 'supplier': 'Merck'}, 'sum formula': 'HClO4', 'type': 'acid'}], 'ph': {'uncertainty': None, 'value': 4.4}, 'temperature': {'unit': 'K', 'value': 298.15}, 'type': 'aq'}}, 'source': {'bib': 'briega-martos_2021_cation_XXX', 'curve': 'First cycle', 'doi': 'https://doi.org/10.1021/acsmeasuresciau.1c00004', 'figure': 1}, 'version': 1} True\n",
      "briega-martos_2021_cation_XXX_p2_Fig1_Li_4.4.csv\n",
      "{'curator': {'digitized': datetime.date(2021, 9, 21), 'name': 'Nicolas Hoermann', 'orcid': 'https://orcid.org/0000-0001-6944-5575'}, 'electrochemical system': {'electrodes': {'configuration': 'three', 'counter electrode': {'crystallographic orientation': 'poly', 'material': 'Pt', 'shape': 'coiled wire'}, 'reference electrode': {'source': {'supplier': 'none'}, 'type': 'RHE'}, 'working electrode': {'crystallographic orientation': 111, 'geometric electrolyte contact area': {'unit': 'cm-2', 'value': None}, 'material': 'Pt', 'preparation procedure': None, 'shape': {'diameter': {'unit': 'mm', 'value': 2}, 'height': {'unit': 'mm', 'value': None}, 'type': 'bead'}, 'source': {'LOT': None, 'supplier': None}}}, 'electrolyte': {'components': [{'concentration': {'unit': 'M', 'value': 0.04}, 'name': 'LiF', 'source': {'supplier': 'Merck, Suprapur, 99.99%'}, 'sum formula': 'LiF', 'type': 'salt'}, {'name': 'water', 'source': {'comment': 'deoxigenated H2O2 solution (Fluka, TraceSELECT Ultra, for trace analysis).', 'quality': 'ultrapure water'}, 'sum formula': 'H2O', 'type': 'solvent'}, {'concentration': {'unit': 'M', 'value': None}, 'name': 'perchloric acid', 'source': {'LOT': None, 'supplier': 'Merck'}, 'sum formula': 'HClO4', 'type': 'acid'}], 'ph': {'uncertainty': None, 'value': 4.4}, 'temperature': {'unit': 'K', 'value': 298.15}, 'type': 'aq'}}, 'source': {'bib': 'briega-martos_2021_cation_XXX', 'curve': 'First cycle', 'doi': 'https://doi.org/10.1021/acsmeasuresciau.1c00004', 'figure': 1}, 'version': 1, 'figure description': {'type': 'digitized', 'measurement type': 'CV', 'scan rate': {'value': 50.0, 'unit': 'mV / s'}, 'potential scale': {'unit': 'V', 'reference': 'SHE'}, 'current': {'unit': 'uA / cm2'}, 'comment': ''}}\n",
      "dict_keys(['curator', 'electrochemical system', 'source', 'version', 'figure description', 'profile'])\n",
      "briega-martos_2021_cation_XXX_p2_Fig1_Li_4.4 briega-martos_2021_cation_XXX_p2_Fig1_Li_4.4.csv {'fields': [{'name': 't', 'type': 'number', 'format': 'default'}, {'name': 'U', 'type': 'number', 'format': 'default'}, {'name': 'j', 'type': 'number', 'format': 'default'}], 'missingValues': ['']}\n",
      "briega-martos_2021_cation_XXX_p2_Fig1_Na_2.3.yaml True\n",
      "{'curator': {'digitized': datetime.date(2021, 9, 21), 'name': 'Nicolas Hoermann', 'orcid': 'https://orcid.org/0000-0001-6944-5575'}, 'electrochemical system': {'electrodes': {'configuration': 'three', 'counter electrode': {'crystallographic orientation': 'poly', 'material': 'Pt', 'shape': 'coiled wire'}, 'reference electrode': {'source': {'supplier': 'none'}, 'type': 'RHE'}, 'working electrode': {'crystallographic orientation': 111, 'geometric electrolyte contact area': {'unit': 'cm-2', 'value': None}, 'material': 'Pt', 'preparation procedure': None, 'shape': {'diameter': {'unit': 'mm', 'value': 2}, 'height': {'unit': 'mm', 'value': None}, 'type': 'bead'}, 'source': {'LOT': None, 'supplier': None}}}, 'electrolyte': {'components': [{'concentration': {'unit': 'M', 'value': 0.1}, 'name': 'NaF', 'source': {'supplier': 'Merck, Suprapur, 99.99%'}, 'sum formula': 'NaF', 'type': 'salt'}, {'name': 'water', 'source': {'comment': 'deoxigenated H2O2 solution (Fluka, TraceSELECT Ultra, for trace analysis).', 'quality': 'ultrapure water'}, 'sum formula': 'H2O', 'type': 'solvent'}, {'concentration': {'unit': 'M', 'value': None}, 'name': 'perchloric acid', 'source': {'LOT': None, 'supplier': 'Merck'}, 'sum formula': 'HClO4', 'type': 'acid'}], 'ph': {'uncertainty': None, 'value': 2.3}, 'temperature': {'unit': 'K', 'value': 298.15}, 'type': 'aq'}}, 'source': {'bib': 'briega-martos_2021_cation_XXX', 'curve': 'First cycle', 'doi': 'https://doi.org/10.1021/acsmeasuresciau.1c00004', 'figure': 1}, 'version': 1} True\n",
      "briega-martos_2021_cation_XXX_p2_Fig1_Na_2.3.csv\n",
      "{'curator': {'digitized': datetime.date(2021, 9, 21), 'name': 'Nicolas Hoermann', 'orcid': 'https://orcid.org/0000-0001-6944-5575'}, 'electrochemical system': {'electrodes': {'configuration': 'three', 'counter electrode': {'crystallographic orientation': 'poly', 'material': 'Pt', 'shape': 'coiled wire'}, 'reference electrode': {'source': {'supplier': 'none'}, 'type': 'RHE'}, 'working electrode': {'crystallographic orientation': 111, 'geometric electrolyte contact area': {'unit': 'cm-2', 'value': None}, 'material': 'Pt', 'preparation procedure': None, 'shape': {'diameter': {'unit': 'mm', 'value': 2}, 'height': {'unit': 'mm', 'value': None}, 'type': 'bead'}, 'source': {'LOT': None, 'supplier': None}}}, 'electrolyte': {'components': [{'concentration': {'unit': 'M', 'value': 0.1}, 'name': 'NaF', 'source': {'supplier': 'Merck, Suprapur, 99.99%'}, 'sum formula': 'NaF', 'type': 'salt'}, {'name': 'water', 'source': {'comment': 'deoxigenated H2O2 solution (Fluka, TraceSELECT Ultra, for trace analysis).', 'quality': 'ultrapure water'}, 'sum formula': 'H2O', 'type': 'solvent'}, {'concentration': {'unit': 'M', 'value': None}, 'name': 'perchloric acid', 'source': {'LOT': None, 'supplier': 'Merck'}, 'sum formula': 'HClO4', 'type': 'acid'}], 'ph': {'uncertainty': None, 'value': 2.3}, 'temperature': {'unit': 'K', 'value': 298.15}, 'type': 'aq'}}, 'source': {'bib': 'briega-martos_2021_cation_XXX', 'curve': 'First cycle', 'doi': 'https://doi.org/10.1021/acsmeasuresciau.1c00004', 'figure': 1}, 'version': 1, 'figure description': {'type': 'digitized', 'measurement type': 'CV', 'scan rate': {'value': 50.0, 'unit': 'mV / s'}, 'potential scale': {'unit': 'V', 'reference': 'SHE'}, 'current': {'unit': 'uA / cm2'}, 'comment': ''}}\n",
      "dict_keys(['curator', 'electrochemical system', 'source', 'version', 'figure description', 'profile'])\n",
      "briega-martos_2021_cation_XXX_p2_Fig1_Na_2.3 briega-martos_2021_cation_XXX_p2_Fig1_Na_2.3.csv {'fields': [{'name': 't', 'type': 'number', 'format': 'default'}, {'name': 'U', 'type': 'number', 'format': 'default'}, {'name': 'j', 'type': 'number', 'format': 'default'}], 'missingValues': ['']}\n",
      "briega-martos_2021_cation_XXX_p2_Fig1_Na_2.9.yaml True\n",
      "{'curator': {'digitized': datetime.date(2021, 9, 21), 'name': 'Nicolas Hoermann', 'orcid': 'https://orcid.org/0000-0001-6944-5575'}, 'electrochemical system': {'electrodes': {'configuration': 'three', 'counter electrode': {'crystallographic orientation': 'poly', 'material': 'Pt', 'shape': 'coiled wire'}, 'reference electrode': {'source': {'supplier': 'none'}, 'type': 'RHE'}, 'working electrode': {'crystallographic orientation': 111, 'geometric electrolyte contact area': {'unit': 'cm-2', 'value': None}, 'material': 'Pt', 'preparation procedure': None, 'shape': {'diameter': {'unit': 'mm', 'value': 2}, 'height': {'unit': 'mm', 'value': None}, 'type': 'bead'}, 'source': {'LOT': None, 'supplier': None}}}, 'electrolyte': {'components': [{'concentration': {'unit': 'M', 'value': 0.1}, 'name': 'NaF', 'source': {'supplier': 'Merck, Suprapur, 99.99%'}, 'sum formula': 'NaF', 'type': 'salt'}, {'name': 'water', 'source': {'comment': 'deoxigenated H2O2 solution (Fluka, TraceSELECT Ultra, for trace analysis).', 'quality': 'ultrapure water'}, 'sum formula': 'H2O', 'type': 'solvent'}, {'concentration': {'unit': 'M', 'value': None}, 'name': 'perchloric acid', 'source': {'LOT': None, 'supplier': 'Merck'}, 'sum formula': 'HClO4', 'type': 'acid'}], 'ph': {'uncertainty': None, 'value': 2.9}, 'temperature': {'unit': 'K', 'value': 298.15}, 'type': 'aq'}}, 'source': {'bib': 'briega-martos_2021_cation_XXX', 'curve': 'First cycle', 'doi': 'https://doi.org/10.1021/acsmeasuresciau.1c00004', 'figure': 1}, 'version': 1} True\n",
      "briega-martos_2021_cation_XXX_p2_Fig1_Na_2.9.csv\n"
     ]
    },
    {
     "name": "stdout",
     "output_type": "stream",
     "text": [
      "{'curator': {'digitized': datetime.date(2021, 9, 21), 'name': 'Nicolas Hoermann', 'orcid': 'https://orcid.org/0000-0001-6944-5575'}, 'electrochemical system': {'electrodes': {'configuration': 'three', 'counter electrode': {'crystallographic orientation': 'poly', 'material': 'Pt', 'shape': 'coiled wire'}, 'reference electrode': {'source': {'supplier': 'none'}, 'type': 'RHE'}, 'working electrode': {'crystallographic orientation': 111, 'geometric electrolyte contact area': {'unit': 'cm-2', 'value': None}, 'material': 'Pt', 'preparation procedure': None, 'shape': {'diameter': {'unit': 'mm', 'value': 2}, 'height': {'unit': 'mm', 'value': None}, 'type': 'bead'}, 'source': {'LOT': None, 'supplier': None}}}, 'electrolyte': {'components': [{'concentration': {'unit': 'M', 'value': 0.1}, 'name': 'NaF', 'source': {'supplier': 'Merck, Suprapur, 99.99%'}, 'sum formula': 'NaF', 'type': 'salt'}, {'name': 'water', 'source': {'comment': 'deoxigenated H2O2 solution (Fluka, TraceSELECT Ultra, for trace analysis).', 'quality': 'ultrapure water'}, 'sum formula': 'H2O', 'type': 'solvent'}, {'concentration': {'unit': 'M', 'value': None}, 'name': 'perchloric acid', 'source': {'LOT': None, 'supplier': 'Merck'}, 'sum formula': 'HClO4', 'type': 'acid'}], 'ph': {'uncertainty': None, 'value': 2.9}, 'temperature': {'unit': 'K', 'value': 298.15}, 'type': 'aq'}}, 'source': {'bib': 'briega-martos_2021_cation_XXX', 'curve': 'First cycle', 'doi': 'https://doi.org/10.1021/acsmeasuresciau.1c00004', 'figure': 1}, 'version': 1, 'figure description': {'type': 'digitized', 'measurement type': 'CV', 'scan rate': {'value': 50.0, 'unit': 'mV / s'}, 'potential scale': {'unit': 'V', 'reference': 'SHE'}, 'current': {'unit': 'uA / cm2'}, 'comment': ''}}\n",
      "dict_keys(['curator', 'electrochemical system', 'source', 'version', 'figure description', 'profile'])\n",
      "briega-martos_2021_cation_XXX_p2_Fig1_Na_2.9 briega-martos_2021_cation_XXX_p2_Fig1_Na_2.9.csv {'fields': [{'name': 't', 'type': 'number', 'format': 'default'}, {'name': 'U', 'type': 'number', 'format': 'default'}, {'name': 'j', 'type': 'number', 'format': 'default'}], 'missingValues': ['']}\n",
      "briega-martos_2021_cation_XXX_p2_Fig1_Na_3.5.yaml True\n",
      "{'curator': {'digitized': datetime.date(2021, 9, 21), 'name': 'Nicolas Hoermann', 'orcid': 'https://orcid.org/0000-0001-6944-5575'}, 'electrochemical system': {'electrodes': {'configuration': 'three', 'counter electrode': {'crystallographic orientation': 'poly', 'material': 'Pt', 'shape': 'coiled wire'}, 'reference electrode': {'source': {'supplier': 'none'}, 'type': 'RHE'}, 'working electrode': {'crystallographic orientation': 111, 'geometric electrolyte contact area': {'unit': 'cm-2', 'value': None}, 'material': 'Pt', 'preparation procedure': None, 'shape': {'diameter': {'unit': 'mm', 'value': 2}, 'height': {'unit': 'mm', 'value': None}, 'type': 'bead'}, 'source': {'LOT': None, 'supplier': None}}}, 'electrolyte': {'components': [{'concentration': {'unit': 'M', 'value': 0.1}, 'name': 'NaF', 'source': {'supplier': 'Merck, Suprapur, 99.99%'}, 'sum formula': 'NaF', 'type': 'salt'}, {'name': 'water', 'source': {'comment': 'deoxigenated H2O2 solution (Fluka, TraceSELECT Ultra, for trace analysis).', 'quality': 'ultrapure water'}, 'sum formula': 'H2O', 'type': 'solvent'}, {'concentration': {'unit': 'M', 'value': None}, 'name': 'perchloric acid', 'source': {'LOT': None, 'supplier': 'Merck'}, 'sum formula': 'HClO4', 'type': 'acid'}], 'ph': {'uncertainty': None, 'value': 3.5}, 'temperature': {'unit': 'K', 'value': 298.15}, 'type': 'aq'}}, 'source': {'bib': 'briega-martos_2021_cation_XXX', 'curve': 'First cycle', 'doi': 'https://doi.org/10.1021/acsmeasuresciau.1c00004', 'figure': 1}, 'version': 1} True\n",
      "briega-martos_2021_cation_XXX_p2_Fig1_Na_3.5.csv\n",
      "{'curator': {'digitized': datetime.date(2021, 9, 21), 'name': 'Nicolas Hoermann', 'orcid': 'https://orcid.org/0000-0001-6944-5575'}, 'electrochemical system': {'electrodes': {'configuration': 'three', 'counter electrode': {'crystallographic orientation': 'poly', 'material': 'Pt', 'shape': 'coiled wire'}, 'reference electrode': {'source': {'supplier': 'none'}, 'type': 'RHE'}, 'working electrode': {'crystallographic orientation': 111, 'geometric electrolyte contact area': {'unit': 'cm-2', 'value': None}, 'material': 'Pt', 'preparation procedure': None, 'shape': {'diameter': {'unit': 'mm', 'value': 2}, 'height': {'unit': 'mm', 'value': None}, 'type': 'bead'}, 'source': {'LOT': None, 'supplier': None}}}, 'electrolyte': {'components': [{'concentration': {'unit': 'M', 'value': 0.1}, 'name': 'NaF', 'source': {'supplier': 'Merck, Suprapur, 99.99%'}, 'sum formula': 'NaF', 'type': 'salt'}, {'name': 'water', 'source': {'comment': 'deoxigenated H2O2 solution (Fluka, TraceSELECT Ultra, for trace analysis).', 'quality': 'ultrapure water'}, 'sum formula': 'H2O', 'type': 'solvent'}, {'concentration': {'unit': 'M', 'value': None}, 'name': 'perchloric acid', 'source': {'LOT': None, 'supplier': 'Merck'}, 'sum formula': 'HClO4', 'type': 'acid'}], 'ph': {'uncertainty': None, 'value': 3.5}, 'temperature': {'unit': 'K', 'value': 298.15}, 'type': 'aq'}}, 'source': {'bib': 'briega-martos_2021_cation_XXX', 'curve': 'First cycle', 'doi': 'https://doi.org/10.1021/acsmeasuresciau.1c00004', 'figure': 1}, 'version': 1, 'figure description': {'type': 'digitized', 'measurement type': 'CV', 'scan rate': {'value': 50.0, 'unit': 'mV / s'}, 'potential scale': {'unit': 'V', 'reference': 'SHE'}, 'current': {'unit': 'uA / cm2'}, 'comment': ''}}\n",
      "dict_keys(['curator', 'electrochemical system', 'source', 'version', 'figure description', 'profile'])\n",
      "briega-martos_2021_cation_XXX_p2_Fig1_Na_3.5 briega-martos_2021_cation_XXX_p2_Fig1_Na_3.5.csv {'fields': [{'name': 't', 'type': 'number', 'format': 'default'}, {'name': 'U', 'type': 'number', 'format': 'default'}, {'name': 'j', 'type': 'number', 'format': 'default'}], 'missingValues': ['']}\n",
      "briega-martos_2021_cation_XXX_p2_Fig1_Na_4.0.yaml True\n",
      "{'curator': {'digitized': datetime.date(2021, 9, 21), 'name': 'Nicolas Hoermann', 'orcid': 'https://orcid.org/0000-0001-6944-5575'}, 'electrochemical system': {'electrodes': {'configuration': 'three', 'counter electrode': {'crystallographic orientation': 'poly', 'material': 'Pt', 'shape': 'coiled wire'}, 'reference electrode': {'source': {'supplier': 'none'}, 'type': 'RHE'}, 'working electrode': {'crystallographic orientation': 111, 'geometric electrolyte contact area': {'unit': 'cm-2', 'value': None}, 'material': 'Pt', 'preparation procedure': None, 'shape': {'diameter': {'unit': 'mm', 'value': 2}, 'height': {'unit': 'mm', 'value': None}, 'type': 'bead'}, 'source': {'LOT': None, 'supplier': None}}}, 'electrolyte': {'components': [{'concentration': {'unit': 'M', 'value': 0.1}, 'name': 'NaF', 'source': {'supplier': 'Merck, Suprapur, 99.99%'}, 'sum formula': 'NaF', 'type': 'salt'}, {'name': 'water', 'source': {'comment': 'deoxigenated H2O2 solution (Fluka, TraceSELECT Ultra, for trace analysis).', 'quality': 'ultrapure water'}, 'sum formula': 'H2O', 'type': 'solvent'}, {'concentration': {'unit': 'M', 'value': None}, 'name': 'perchloric acid', 'source': {'LOT': None, 'supplier': 'Merck'}, 'sum formula': 'HClO4', 'type': 'acid'}], 'ph': {'uncertainty': None, 'value': 4.0}, 'temperature': {'unit': 'K', 'value': 298.15}, 'type': 'aq'}}, 'source': {'bib': 'briega-martos_2021_cation_XXX', 'curve': 'First cycle', 'doi': 'https://doi.org/10.1021/acsmeasuresciau.1c00004', 'figure': 1}, 'version': 1} True\n",
      "briega-martos_2021_cation_XXX_p2_Fig1_Na_4.0.csv\n",
      "{'curator': {'digitized': datetime.date(2021, 9, 21), 'name': 'Nicolas Hoermann', 'orcid': 'https://orcid.org/0000-0001-6944-5575'}, 'electrochemical system': {'electrodes': {'configuration': 'three', 'counter electrode': {'crystallographic orientation': 'poly', 'material': 'Pt', 'shape': 'coiled wire'}, 'reference electrode': {'source': {'supplier': 'none'}, 'type': 'RHE'}, 'working electrode': {'crystallographic orientation': 111, 'geometric electrolyte contact area': {'unit': 'cm-2', 'value': None}, 'material': 'Pt', 'preparation procedure': None, 'shape': {'diameter': {'unit': 'mm', 'value': 2}, 'height': {'unit': 'mm', 'value': None}, 'type': 'bead'}, 'source': {'LOT': None, 'supplier': None}}}, 'electrolyte': {'components': [{'concentration': {'unit': 'M', 'value': 0.1}, 'name': 'NaF', 'source': {'supplier': 'Merck, Suprapur, 99.99%'}, 'sum formula': 'NaF', 'type': 'salt'}, {'name': 'water', 'source': {'comment': 'deoxigenated H2O2 solution (Fluka, TraceSELECT Ultra, for trace analysis).', 'quality': 'ultrapure water'}, 'sum formula': 'H2O', 'type': 'solvent'}, {'concentration': {'unit': 'M', 'value': None}, 'name': 'perchloric acid', 'source': {'LOT': None, 'supplier': 'Merck'}, 'sum formula': 'HClO4', 'type': 'acid'}], 'ph': {'uncertainty': None, 'value': 4.0}, 'temperature': {'unit': 'K', 'value': 298.15}, 'type': 'aq'}}, 'source': {'bib': 'briega-martos_2021_cation_XXX', 'curve': 'First cycle', 'doi': 'https://doi.org/10.1021/acsmeasuresciau.1c00004', 'figure': 1}, 'version': 1, 'figure description': {'type': 'digitized', 'measurement type': 'CV', 'scan rate': {'value': 50.0, 'unit': 'mV / s'}, 'potential scale': {'unit': 'V', 'reference': 'SHE'}, 'current': {'unit': 'uA / cm2'}, 'comment': ''}}\n",
      "dict_keys(['curator', 'electrochemical system', 'source', 'version', 'figure description', 'profile'])\n",
      "briega-martos_2021_cation_XXX_p2_Fig1_Na_4.0 briega-martos_2021_cation_XXX_p2_Fig1_Na_4.0.csv {'fields': [{'name': 't', 'type': 'number', 'format': 'default'}, {'name': 'U', 'type': 'number', 'format': 'default'}, {'name': 'j', 'type': 'number', 'format': 'default'}], 'missingValues': ['']}\n",
      "briega-martos_2021_cation_XXX_p2_Fig1_Na_4.4.yaml True\n",
      "{'curator': {'digitized': datetime.date(2021, 9, 21), 'name': 'Nicolas Hoermann', 'orcid': 'https://orcid.org/0000-0001-6944-5575'}, 'electrochemical system': {'electrodes': {'configuration': 'three', 'counter electrode': {'crystallographic orientation': 'poly', 'material': 'Pt', 'shape': 'coiled wire'}, 'reference electrode': {'source': {'supplier': 'none'}, 'type': 'RHE'}, 'working electrode': {'crystallographic orientation': 111, 'geometric electrolyte contact area': {'unit': 'cm-2', 'value': None}, 'material': 'Pt', 'preparation procedure': None, 'shape': {'diameter': {'unit': 'mm', 'value': 2}, 'height': {'unit': 'mm', 'value': None}, 'type': 'bead'}, 'source': {'LOT': None, 'supplier': None}}}, 'electrolyte': {'components': [{'concentration': {'unit': 'M', 'value': 0.1}, 'name': 'NaF', 'source': {'supplier': 'Merck, Suprapur, 99.99%'}, 'sum formula': 'NaF', 'type': 'salt'}, {'name': 'water', 'source': {'comment': 'deoxigenated H2O2 solution (Fluka, TraceSELECT Ultra, for trace analysis).', 'quality': 'ultrapure water'}, 'sum formula': 'H2O', 'type': 'solvent'}, {'concentration': {'unit': 'M', 'value': None}, 'name': 'perchloric acid', 'source': {'LOT': None, 'supplier': 'Merck'}, 'sum formula': 'HClO4', 'type': 'acid'}], 'ph': {'uncertainty': None, 'value': 4.4}, 'temperature': {'unit': 'K', 'value': 298.15}, 'type': 'aq'}}, 'source': {'bib': 'briega-martos_2021_cation_XXX', 'curve': 'First cycle', 'doi': 'https://doi.org/10.1021/acsmeasuresciau.1c00004', 'figure': 1}, 'version': 1} True\n",
      "briega-martos_2021_cation_XXX_p2_Fig1_Na_4.4.csv\n"
     ]
    },
    {
     "name": "stdout",
     "output_type": "stream",
     "text": [
      "{'curator': {'digitized': datetime.date(2021, 9, 21), 'name': 'Nicolas Hoermann', 'orcid': 'https://orcid.org/0000-0001-6944-5575'}, 'electrochemical system': {'electrodes': {'configuration': 'three', 'counter electrode': {'crystallographic orientation': 'poly', 'material': 'Pt', 'shape': 'coiled wire'}, 'reference electrode': {'source': {'supplier': 'none'}, 'type': 'RHE'}, 'working electrode': {'crystallographic orientation': 111, 'geometric electrolyte contact area': {'unit': 'cm-2', 'value': None}, 'material': 'Pt', 'preparation procedure': None, 'shape': {'diameter': {'unit': 'mm', 'value': 2}, 'height': {'unit': 'mm', 'value': None}, 'type': 'bead'}, 'source': {'LOT': None, 'supplier': None}}}, 'electrolyte': {'components': [{'concentration': {'unit': 'M', 'value': 0.1}, 'name': 'NaF', 'source': {'supplier': 'Merck, Suprapur, 99.99%'}, 'sum formula': 'NaF', 'type': 'salt'}, {'name': 'water', 'source': {'comment': 'deoxigenated H2O2 solution (Fluka, TraceSELECT Ultra, for trace analysis).', 'quality': 'ultrapure water'}, 'sum formula': 'H2O', 'type': 'solvent'}, {'concentration': {'unit': 'M', 'value': None}, 'name': 'perchloric acid', 'source': {'LOT': None, 'supplier': 'Merck'}, 'sum formula': 'HClO4', 'type': 'acid'}], 'ph': {'uncertainty': None, 'value': 4.4}, 'temperature': {'unit': 'K', 'value': 298.15}, 'type': 'aq'}}, 'source': {'bib': 'briega-martos_2021_cation_XXX', 'curve': 'First cycle', 'doi': 'https://doi.org/10.1021/acsmeasuresciau.1c00004', 'figure': 1}, 'version': 1, 'figure description': {'type': 'digitized', 'measurement type': 'CV', 'scan rate': {'value': 50.0, 'unit': 'mV / s'}, 'potential scale': {'unit': 'V', 'reference': 'SHE'}, 'current': {'unit': 'uA / cm2'}, 'comment': ''}}\n",
      "dict_keys(['curator', 'electrochemical system', 'source', 'version', 'figure description', 'profile'])\n",
      "briega-martos_2021_cation_XXX_p2_Fig1_Na_4.4 briega-martos_2021_cation_XXX_p2_Fig1_Na_4.4.csv {'fields': [{'name': 't', 'type': 'number', 'format': 'default'}, {'name': 'U', 'type': 'number', 'format': 'default'}, {'name': 'j', 'type': 'number', 'format': 'default'}], 'missingValues': ['']}\n"
     ]
    }
   ],
   "source": [
    "sampling_interval = 1\n",
    "\n",
    "target = f'briega-martos_2021_cation_XXX_p2_Fig1_'\n",
    "\n",
    "import svgdigitizer\n",
    "from datapackage import Package\n",
    "\n",
    "\n",
    "import svgdigitizer\n",
    "import yaml\n",
    "from svgdigitizer.svgplot import SVGPlot\n",
    "from svgdigitizer.svg import SVG\n",
    "from svgdigitizer.electrochemistry.cv import CV\n",
    "import shutil\n",
    "import copy\n",
    "\n",
    "def export_datapackage(svg, sampling_interval, metadata):\n",
    "    import yaml\n",
    "    from svgdigitizer.svgplot import SVGPlot\n",
    "    from svgdigitizer.svg import SVG\n",
    "    from svgdigitizer.electrochemistry.cv import CV\n",
    "    from pathlib import Path\n",
    "    import datetime\n",
    "    \n",
    "    print(metadata, bool(metadata))\n",
    "    if metadata:\n",
    "        with open(metadata,\"r\") as f:\n",
    "            metadata = yaml.load(f, Loader=yaml.SafeLoader)\n",
    "\n",
    "        \n",
    "    print(metadata, bool(metadata))\n",
    "    cv = CV(SVGPlot(SVG(open(svg, 'rb')), sampling_interval=sampling_interval), metadata=metadata)\n",
    "    csvname = Path(svg).with_suffix('.csv')\n",
    "    print(csvname)\n",
    "    cv.df.to_csv( csvname , index=False)\n",
    "    print(cv.metadata)\n",
    "    \n",
    "\n",
    "    def defaultconverter(o):\n",
    "        if isinstance(o, datetime.datetime):\n",
    "            return o.__str__()\n",
    "\n",
    "    p = Package(cv.metadata)\n",
    "\n",
    "    print(p.descriptor.keys())\n",
    "        \n",
    "    p.infer(str(csvname))\n",
    "    print(p.descriptor['resources'][0]['name'], \\\n",
    "    p.descriptor['resources'][0]['path'], \\\n",
    "    p.descriptor['resources'][0]['schema'])\n",
    "        \n",
    "    import json\n",
    "    with open(Path(svg).with_suffix('.json'), \"w\") as outfile:\n",
    "        json.dump(p.descriptor, outfile, default=defaultconverter)\n",
    "    \n",
    "    \n",
    "    \n",
    "    \n",
    "    \n",
    "    \n",
    "\n",
    "\n",
    "\n",
    "\n",
    "\n",
    "\n",
    "\n",
    "\n",
    "\n",
    "\n",
    "\n",
    "\n",
    "for tag1 in ['Cs','Li', 'Na']:\n",
    "    for tag2 in [2.3, 2.9, 3.5, 4.0, 4.4]:\n",
    "        labels = \"{}_{}\".format(tag1, tag2)\n",
    "        targetf = target + labels + \".svg\"\n",
    "        targety = target + labels + \".yaml\"\n",
    "        \n",
    "        export_datapackage(targetf, sampling_interval, targety)\n",
    "        "
   ]
  },
  {
   "cell_type": "code",
   "execution_count": 4,
   "id": "27f85dd0",
   "metadata": {},
   "outputs": [
    {
     "name": "stdout",
     "output_type": "stream",
     "text": [
      "/home/hoermann/SharedDocs/Projects/Build_Website/github/echemdb_git_website/website/literature/Engstfeld_2018_polycristalline_17743/Engstfeld_2018_polycrystalline_17743_4b_1.yaml True\n",
      "{'version': 1, 'source': {'doi': 'https://doi.org/10.1002/chem.201803418', 'bib': 'Engstfeld_2018_Polycrystalline_17747', 'figure': '4b', 'curve': 1}, 'curator': {'name': 'Albert Engstfeld', 'orcid': 'https://orcid.org/0000-0002-9686-3948', 'digitized': datetime.date(2021, 7, 9)}, 'figure description': {'linked measurements': None, 'comment': 'small humps around 0.3 to 0.45 V are complicated to digitize'}, 'electrochemical system': {'electrolyte': {'type': 'aq', 'components': [{'name': 'water', 'sum formula': 'H2O', 'type': 'solvent', 'proportion': {'value': 100, 'unit': 'volume percent'}, 'source': {'refinement': 'Millipore MilliQ', 'quality': 'ultrapure water', 'total organic carbon': {'value': 'none', 'unit': 'none'}}}, {'name': 'potassium hydroxide', 'sum formula': 'KOH', 'type': 'alkaline', 'source': {'supplier': 'Merck Suprapur', 'LOT': None}, 'concentration': {'value': 0.1, 'unit': 'M'}}], 'ph': {'value': 13, 'uncertainty': 'none'}, 'temperature': {'value': 298.15, 'unit': 'K'}}, 'electrodes': {'configuration': 'three', 'reference electrode': {'type': 'RHE', 'source': {'supplier': 'homemade'}}, 'counter electrode': {'material': 'Au', 'crystallographic orientation': 'poly', 'shape': 'mesh'}, 'working electrode': {'material': 'Cu', 'crystallographic orientation': 100, 'source': {'supplier': 'Mateck', 'LOT': None}, 'shape': {'type': 'head shaped', 'height': {'value': 2, 'unit': 'mm'}, 'diameter': {'value': 4.4, 'unit': 'mm'}}, 'geometric electrolyte contact area': {'value': None, 'unit': 'cm-2'}, 'preparation procedure': 'sputter and heating under UHV conditions'}}}} True\n",
      "/home/hoermann/SharedDocs/Projects/Build_Website/github/echemdb_git_website/website/literature/Engstfeld_2018_polycristalline_17743/Engstfeld_2018_polycrystalline_17743_4b_1.csv\n",
      "{'version': 1, 'source': {'doi': 'https://doi.org/10.1002/chem.201803418', 'bib': 'Engstfeld_2018_Polycrystalline_17747', 'figure': '4b', 'curve': 1}, 'curator': {'name': 'Albert Engstfeld', 'orcid': 'https://orcid.org/0000-0002-9686-3948', 'digitized': datetime.date(2021, 7, 9)}, 'figure description': {'linked measurements': None, 'comment': '', 'type': 'digitized', 'measurement type': 'CV', 'scan rate': {'value': 50.0, 'unit': 'mV / s'}, 'potential scale': {'unit': 'V', 'reference': 'RHE'}, 'current': {'unit': 'uA / cm2'}}, 'electrochemical system': {'electrolyte': {'type': 'aq', 'components': [{'name': 'water', 'sum formula': 'H2O', 'type': 'solvent', 'proportion': {'value': 100, 'unit': 'volume percent'}, 'source': {'refinement': 'Millipore MilliQ', 'quality': 'ultrapure water', 'total organic carbon': {'value': 'none', 'unit': 'none'}}}, {'name': 'potassium hydroxide', 'sum formula': 'KOH', 'type': 'alkaline', 'source': {'supplier': 'Merck Suprapur', 'LOT': None}, 'concentration': {'value': 0.1, 'unit': 'M'}}], 'ph': {'value': 13, 'uncertainty': 'none'}, 'temperature': {'value': 298.15, 'unit': 'K'}}, 'electrodes': {'configuration': 'three', 'reference electrode': {'type': 'RHE', 'source': {'supplier': 'homemade'}}, 'counter electrode': {'material': 'Au', 'crystallographic orientation': 'poly', 'shape': 'mesh'}, 'working electrode': {'material': 'Cu', 'crystallographic orientation': 100, 'source': {'supplier': 'Mateck', 'LOT': None}, 'shape': {'type': 'head shaped', 'height': {'value': 2, 'unit': 'mm'}, 'diameter': {'value': 4.4, 'unit': 'mm'}}, 'geometric electrolyte contact area': {'value': None, 'unit': 'cm-2'}, 'preparation procedure': 'sputter and heating under UHV conditions'}}}}\n",
      "dict_keys(['version', 'source', 'curator', 'figure description', 'electrochemical system', 'profile'])\n"
     ]
    },
    {
     "ename": "DataPackageException",
     "evalue": "Local path \"../Engstfeld_2018_polycristalline_17743/Engstfeld_2018_polycrystalline_17743_4b_1.csv\" is not safe",
     "output_type": "error",
     "traceback": [
      "\u001b[0;31m---------------------------------------------------------------------------\u001b[0m",
      "\u001b[0;31mDataPackageException\u001b[0m                      Traceback (most recent call last)",
      "\u001b[0;32m/tmp/ipykernel_1470181/2508624046.py\u001b[0m in \u001b[0;36m<module>\u001b[0;34m\u001b[0m\n\u001b[1;32m      6\u001b[0m \u001b[0mtargety\u001b[0m \u001b[0;34m=\u001b[0m \u001b[0mtarget\u001b[0m \u001b[0;34m+\u001b[0m \u001b[0;34m\".yaml\"\u001b[0m\u001b[0;34m\u001b[0m\u001b[0;34m\u001b[0m\u001b[0m\n\u001b[1;32m      7\u001b[0m \u001b[0;34m\u001b[0m\u001b[0m\n\u001b[0;32m----> 8\u001b[0;31m \u001b[0mexport_datapackage\u001b[0m\u001b[0;34m(\u001b[0m\u001b[0mtargetf\u001b[0m\u001b[0;34m,\u001b[0m \u001b[0msampling_interval\u001b[0m\u001b[0;34m,\u001b[0m \u001b[0mtargety\u001b[0m\u001b[0;34m)\u001b[0m\u001b[0;34m\u001b[0m\u001b[0;34m\u001b[0m\u001b[0m\n\u001b[0m",
      "\u001b[0;32m/tmp/ipykernel_1470181/1800662090.py\u001b[0m in \u001b[0;36mexport_datapackage\u001b[0;34m(svg, sampling_interval, metadata)\u001b[0m\n\u001b[1;32m     45\u001b[0m     \u001b[0mprint\u001b[0m\u001b[0;34m(\u001b[0m\u001b[0mp\u001b[0m\u001b[0;34m.\u001b[0m\u001b[0mdescriptor\u001b[0m\u001b[0;34m.\u001b[0m\u001b[0mkeys\u001b[0m\u001b[0;34m(\u001b[0m\u001b[0;34m)\u001b[0m\u001b[0;34m)\u001b[0m\u001b[0;34m\u001b[0m\u001b[0;34m\u001b[0m\u001b[0m\n\u001b[1;32m     46\u001b[0m \u001b[0;34m\u001b[0m\u001b[0m\n\u001b[0;32m---> 47\u001b[0;31m     \u001b[0mp\u001b[0m\u001b[0;34m.\u001b[0m\u001b[0minfer\u001b[0m\u001b[0;34m(\u001b[0m\u001b[0mstr\u001b[0m\u001b[0;34m(\u001b[0m\u001b[0mcsvname\u001b[0m\u001b[0;34m)\u001b[0m\u001b[0;34m)\u001b[0m\u001b[0;34m\u001b[0m\u001b[0;34m\u001b[0m\u001b[0m\n\u001b[0m\u001b[1;32m     48\u001b[0m     print(p.descriptor['resources'][0]['name'], \\\n\u001b[1;32m     49\u001b[0m     \u001b[0mp\u001b[0m\u001b[0;34m.\u001b[0m\u001b[0mdescriptor\u001b[0m\u001b[0;34m[\u001b[0m\u001b[0;34m'resources'\u001b[0m\u001b[0;34m]\u001b[0m\u001b[0;34m[\u001b[0m\u001b[0;36m0\u001b[0m\u001b[0;34m]\u001b[0m\u001b[0;34m[\u001b[0m\u001b[0;34m'path'\u001b[0m\u001b[0;34m]\u001b[0m\u001b[0;34m,\u001b[0m\u001b[0;31m \u001b[0m\u001b[0;31m\\\u001b[0m\u001b[0;34m\u001b[0m\u001b[0;34m\u001b[0m\u001b[0m\n",
      "\u001b[0;32m~/miniconda3/envs/echemdb_p39/lib/python3.9/site-packages/datapackage/package.py\u001b[0m in \u001b[0;36minfer\u001b[0;34m(self, pattern)\u001b[0m\n\u001b[1;32m    310\u001b[0m             \u001b[0moptions\u001b[0m \u001b[0;34m=\u001b[0m \u001b[0;34m{\u001b[0m\u001b[0;34m'recursive'\u001b[0m\u001b[0;34m:\u001b[0m \u001b[0;32mTrue\u001b[0m\u001b[0;34m}\u001b[0m \u001b[0;32mif\u001b[0m \u001b[0;34m'**'\u001b[0m \u001b[0;32min\u001b[0m \u001b[0mpattern\u001b[0m \u001b[0;32melse\u001b[0m \u001b[0;34m{\u001b[0m\u001b[0;34m}\u001b[0m\u001b[0;34m\u001b[0m\u001b[0;34m\u001b[0m\u001b[0m\n\u001b[1;32m    311\u001b[0m             \u001b[0;32mfor\u001b[0m \u001b[0mpath\u001b[0m \u001b[0;32min\u001b[0m \u001b[0mglob\u001b[0m\u001b[0;34m.\u001b[0m\u001b[0mglob\u001b[0m\u001b[0;34m(\u001b[0m\u001b[0mos\u001b[0m\u001b[0;34m.\u001b[0m\u001b[0mpath\u001b[0m\u001b[0;34m.\u001b[0m\u001b[0mjoin\u001b[0m\u001b[0;34m(\u001b[0m\u001b[0mself\u001b[0m\u001b[0;34m.\u001b[0m\u001b[0m__base_path\u001b[0m\u001b[0;34m,\u001b[0m \u001b[0mpattern\u001b[0m\u001b[0;34m)\u001b[0m\u001b[0;34m,\u001b[0m \u001b[0;34m**\u001b[0m\u001b[0moptions\u001b[0m\u001b[0;34m)\u001b[0m\u001b[0;34m:\u001b[0m\u001b[0;34m\u001b[0m\u001b[0;34m\u001b[0m\u001b[0m\n\u001b[0;32m--> 312\u001b[0;31m                 \u001b[0mself\u001b[0m\u001b[0;34m.\u001b[0m\u001b[0madd_resource\u001b[0m\u001b[0;34m(\u001b[0m\u001b[0;34m{\u001b[0m\u001b[0;34m'path'\u001b[0m\u001b[0;34m:\u001b[0m \u001b[0mos\u001b[0m\u001b[0;34m.\u001b[0m\u001b[0mpath\u001b[0m\u001b[0;34m.\u001b[0m\u001b[0mrelpath\u001b[0m\u001b[0;34m(\u001b[0m\u001b[0mpath\u001b[0m\u001b[0;34m,\u001b[0m \u001b[0mself\u001b[0m\u001b[0;34m.\u001b[0m\u001b[0m__base_path\u001b[0m\u001b[0;34m)\u001b[0m\u001b[0;34m}\u001b[0m\u001b[0;34m)\u001b[0m\u001b[0;34m\u001b[0m\u001b[0;34m\u001b[0m\u001b[0m\n\u001b[0m\u001b[1;32m    313\u001b[0m \u001b[0;34m\u001b[0m\u001b[0m\n\u001b[1;32m    314\u001b[0m         \u001b[0;31m# Resources\u001b[0m\u001b[0;34m\u001b[0m\u001b[0;34m\u001b[0m\u001b[0m\n",
      "\u001b[0;32m~/miniconda3/envs/echemdb_p39/lib/python3.9/site-packages/datapackage/package.py\u001b[0m in \u001b[0;36madd_resource\u001b[0;34m(self, descriptor)\u001b[0m\n\u001b[1;32m    233\u001b[0m         \u001b[0mself\u001b[0m\u001b[0;34m.\u001b[0m\u001b[0m__current_descriptor\u001b[0m\u001b[0;34m.\u001b[0m\u001b[0msetdefault\u001b[0m\u001b[0;34m(\u001b[0m\u001b[0;34m'resources'\u001b[0m\u001b[0;34m,\u001b[0m \u001b[0;34m[\u001b[0m\u001b[0;34m]\u001b[0m\u001b[0;34m)\u001b[0m\u001b[0;34m\u001b[0m\u001b[0;34m\u001b[0m\u001b[0m\n\u001b[1;32m    234\u001b[0m         \u001b[0mself\u001b[0m\u001b[0;34m.\u001b[0m\u001b[0m__current_descriptor\u001b[0m\u001b[0;34m[\u001b[0m\u001b[0;34m'resources'\u001b[0m\u001b[0;34m]\u001b[0m\u001b[0;34m.\u001b[0m\u001b[0mappend\u001b[0m\u001b[0;34m(\u001b[0m\u001b[0mdescriptor\u001b[0m\u001b[0;34m)\u001b[0m\u001b[0;34m\u001b[0m\u001b[0;34m\u001b[0m\u001b[0m\n\u001b[0;32m--> 235\u001b[0;31m         \u001b[0mself\u001b[0m\u001b[0;34m.\u001b[0m\u001b[0m__build\u001b[0m\u001b[0;34m(\u001b[0m\u001b[0;34m)\u001b[0m\u001b[0;34m\u001b[0m\u001b[0;34m\u001b[0m\u001b[0m\n\u001b[0m\u001b[1;32m    236\u001b[0m         \u001b[0;32mreturn\u001b[0m \u001b[0mself\u001b[0m\u001b[0;34m.\u001b[0m\u001b[0m__resources\u001b[0m\u001b[0;34m[\u001b[0m\u001b[0;34m-\u001b[0m\u001b[0;36m1\u001b[0m\u001b[0;34m]\u001b[0m\u001b[0;34m\u001b[0m\u001b[0;34m\u001b[0m\u001b[0m\n\u001b[1;32m    237\u001b[0m \u001b[0;34m\u001b[0m\u001b[0m\n",
      "\u001b[0;32m~/miniconda3/envs/echemdb_p39/lib/python3.9/site-packages/datapackage/package.py\u001b[0m in \u001b[0;36m__build\u001b[0;34m(self)\u001b[0m\n\u001b[1;32m    532\u001b[0m             if (not resource or resource.descriptor != descriptor or\n\u001b[1;32m    533\u001b[0m                     (resource.schema and resource.schema.foreign_keys)):\n\u001b[0;32m--> 534\u001b[0;31m                 updated_resource = Resource(descriptor,\n\u001b[0m\u001b[1;32m    535\u001b[0m                     \u001b[0mbase_path\u001b[0m\u001b[0;34m=\u001b[0m\u001b[0mself\u001b[0m\u001b[0;34m.\u001b[0m\u001b[0m__base_path\u001b[0m\u001b[0;34m,\u001b[0m\u001b[0;34m\u001b[0m\u001b[0;34m\u001b[0m\u001b[0m\n\u001b[1;32m    536\u001b[0m                     \u001b[0mstrict\u001b[0m\u001b[0;34m=\u001b[0m\u001b[0mself\u001b[0m\u001b[0;34m.\u001b[0m\u001b[0m__strict\u001b[0m\u001b[0;34m,\u001b[0m\u001b[0;34m\u001b[0m\u001b[0;34m\u001b[0m\u001b[0m\n",
      "\u001b[0;32m~/miniconda3/envs/echemdb_p39/lib/python3.9/site-packages/datapackage/resource.py\u001b[0m in \u001b[0;36m__init__\u001b[0;34m(self, descriptor, base_path, strict, unsafe, storage, package, **options)\u001b[0m\n\u001b[1;32m     88\u001b[0m \u001b[0;34m\u001b[0m\u001b[0m\n\u001b[1;32m     89\u001b[0m         \u001b[0;31m# Build resource\u001b[0m\u001b[0;34m\u001b[0m\u001b[0;34m\u001b[0m\u001b[0m\n\u001b[0;32m---> 90\u001b[0;31m         \u001b[0mself\u001b[0m\u001b[0;34m.\u001b[0m\u001b[0m__build\u001b[0m\u001b[0;34m(\u001b[0m\u001b[0;34m)\u001b[0m\u001b[0;34m\u001b[0m\u001b[0;34m\u001b[0m\u001b[0m\n\u001b[0m\u001b[1;32m     91\u001b[0m \u001b[0;34m\u001b[0m\u001b[0m\n\u001b[1;32m     92\u001b[0m     \u001b[0;34m@\u001b[0m\u001b[0mproperty\u001b[0m\u001b[0;34m\u001b[0m\u001b[0;34m\u001b[0m\u001b[0m\n",
      "\u001b[0;32m~/miniconda3/envs/echemdb_p39/lib/python3.9/site-packages/datapackage/resource.py\u001b[0m in \u001b[0;36m__build\u001b[0;34m(self)\u001b[0m\n\u001b[1;32m    629\u001b[0m \u001b[0;34m\u001b[0m\u001b[0m\n\u001b[1;32m    630\u001b[0m         \u001b[0;31m# Inspect source\u001b[0m\u001b[0;34m\u001b[0m\u001b[0;34m\u001b[0m\u001b[0m\n\u001b[0;32m--> 631\u001b[0;31m         self.__source_inspection = _inspect_source(\n\u001b[0m\u001b[1;32m    632\u001b[0m             \u001b[0mself\u001b[0m\u001b[0;34m.\u001b[0m\u001b[0m__current_descriptor\u001b[0m\u001b[0;34m.\u001b[0m\u001b[0mget\u001b[0m\u001b[0;34m(\u001b[0m\u001b[0;34m'data'\u001b[0m\u001b[0;34m)\u001b[0m\u001b[0;34m,\u001b[0m\u001b[0;34m\u001b[0m\u001b[0;34m\u001b[0m\u001b[0m\n\u001b[1;32m    633\u001b[0m             \u001b[0mself\u001b[0m\u001b[0;34m.\u001b[0m\u001b[0m__current_descriptor\u001b[0m\u001b[0;34m.\u001b[0m\u001b[0mget\u001b[0m\u001b[0;34m(\u001b[0m\u001b[0;34m'path'\u001b[0m\u001b[0;34m)\u001b[0m\u001b[0;34m,\u001b[0m\u001b[0;34m\u001b[0m\u001b[0;34m\u001b[0m\u001b[0m\n",
      "\u001b[0;32m~/miniconda3/envs/echemdb_p39/lib/python3.9/site-packages/datapackage/resource.py\u001b[0m in \u001b[0;36m_inspect_source\u001b[0;34m(data, path, base_path, unsafe, storage)\u001b[0m\n\u001b[1;32m    820\u001b[0m             \u001b[0;31m# Path is not safe\u001b[0m\u001b[0;34m\u001b[0m\u001b[0;34m\u001b[0m\u001b[0m\n\u001b[1;32m    821\u001b[0m             \u001b[0;32mif\u001b[0m \u001b[0;32mnot\u001b[0m \u001b[0munsafe\u001b[0m \u001b[0;32mand\u001b[0m \u001b[0;32mnot\u001b[0m \u001b[0mhelpers\u001b[0m\u001b[0;34m.\u001b[0m\u001b[0mis_safe_path\u001b[0m\u001b[0;34m(\u001b[0m\u001b[0mpath\u001b[0m\u001b[0;34m[\u001b[0m\u001b[0;36m0\u001b[0m\u001b[0;34m]\u001b[0m\u001b[0;34m)\u001b[0m\u001b[0;34m:\u001b[0m\u001b[0;34m\u001b[0m\u001b[0;34m\u001b[0m\u001b[0m\n\u001b[0;32m--> 822\u001b[0;31m                 raise exceptions.DataPackageException(\n\u001b[0m\u001b[1;32m    823\u001b[0m                     'Local path \"%s\" is not safe' % path[0])\n\u001b[1;32m    824\u001b[0m \u001b[0;34m\u001b[0m\u001b[0m\n",
      "\u001b[0;31mDataPackageException\u001b[0m: Local path \"../Engstfeld_2018_polycristalline_17743/Engstfeld_2018_polycrystalline_17743_4b_1.csv\" is not safe"
     ]
    }
   ],
   "source": [
    "sampling_interval = 1\n",
    "\n",
    "target = \"/home/hoermann/SharedDocs/Projects/Build_Website/github/echemdb_git_website/website/literature/Engstfeld_2018_polycristalline_17743/Engstfeld_2018_polycrystalline_17743_4b_1\"\n",
    "\n",
    "targetf = target + \".svg\"\n",
    "targety = target + \".yaml\"\n",
    "\n",
    "export_datapackage(targetf, sampling_interval, targety)"
   ]
  },
  {
   "cell_type": "code",
   "execution_count": 10,
   "id": "ae162bbc",
   "metadata": {},
   "outputs": [
    {
     "name": "stdout",
     "output_type": "stream",
     "text": [
      "/home/hoermann/SharedDocs/Projects/Build_Website/github/echemdb_git_website/website/literature/Engstfeld_2018_polycristalline_17743\n"
     ]
    }
   ],
   "source": [
    "cd 'Engstfeld_2018_polycristalline_17743/'\n"
   ]
  },
  {
   "cell_type": "code",
   "execution_count": 11,
   "id": "5b792c2f",
   "metadata": {},
   "outputs": [
    {
     "name": "stdout",
     "output_type": "stream",
     "text": [
      "Engstfeld_2018_polycrystalline_17743_4b_1.yaml True\n",
      "{'version': 1, 'source': {'doi': 'https://doi.org/10.1002/chem.201803418', 'bib': 'Engstfeld_2018_Polycrystalline_17747', 'figure': '4b', 'curve': 1}, 'curator': {'name': 'Albert Engstfeld', 'orcid': 'https://orcid.org/0000-0002-9686-3948', 'digitized': datetime.date(2021, 7, 9)}, 'figure description': {'linked measurements': None, 'comment': 'small humps around 0.3 to 0.45 V are complicated to digitize'}, 'electrochemical system': {'electrolyte': {'type': 'aq', 'components': [{'name': 'water', 'sum formula': 'H2O', 'type': 'solvent', 'proportion': {'value': 100, 'unit': 'volume percent'}, 'source': {'refinement': 'Millipore MilliQ', 'quality': 'ultrapure water', 'total organic carbon': {'value': 'none', 'unit': 'none'}}}, {'name': 'potassium hydroxide', 'sum formula': 'KOH', 'type': 'alkaline', 'source': {'supplier': 'Merck Suprapur', 'LOT': None}, 'concentration': {'value': 0.1, 'unit': 'M'}}], 'ph': {'value': 13, 'uncertainty': 'none'}, 'temperature': {'value': 298.15, 'unit': 'K'}}, 'electrodes': {'configuration': 'three', 'reference electrode': {'type': 'RHE', 'source': {'supplier': 'homemade'}}, 'counter electrode': {'material': 'Au', 'crystallographic orientation': 'poly', 'shape': 'mesh'}, 'working electrode': {'material': 'Cu', 'crystallographic orientation': 100, 'source': {'supplier': 'Mateck', 'LOT': None}, 'shape': {'type': 'head shaped', 'height': {'value': 2, 'unit': 'mm'}, 'diameter': {'value': 4.4, 'unit': 'mm'}}, 'geometric electrolyte contact area': {'value': None, 'unit': 'cm-2'}, 'preparation procedure': 'sputter and heating under UHV conditions'}}}} True\n",
      "Engstfeld_2018_polycrystalline_17743_4b_1.csv\n",
      "{'version': 1, 'source': {'doi': 'https://doi.org/10.1002/chem.201803418', 'bib': 'Engstfeld_2018_Polycrystalline_17747', 'figure': '4b', 'curve': 1}, 'curator': {'name': 'Albert Engstfeld', 'orcid': 'https://orcid.org/0000-0002-9686-3948', 'digitized': datetime.date(2021, 7, 9)}, 'figure description': {'linked measurements': None, 'comment': '', 'type': 'digitized', 'measurement type': 'CV', 'scan rate': {'value': 50.0, 'unit': 'mV / s'}, 'potential scale': {'unit': 'V', 'reference': 'RHE'}, 'current': {'unit': 'uA / cm2'}}, 'electrochemical system': {'electrolyte': {'type': 'aq', 'components': [{'name': 'water', 'sum formula': 'H2O', 'type': 'solvent', 'proportion': {'value': 100, 'unit': 'volume percent'}, 'source': {'refinement': 'Millipore MilliQ', 'quality': 'ultrapure water', 'total organic carbon': {'value': 'none', 'unit': 'none'}}}, {'name': 'potassium hydroxide', 'sum formula': 'KOH', 'type': 'alkaline', 'source': {'supplier': 'Merck Suprapur', 'LOT': None}, 'concentration': {'value': 0.1, 'unit': 'M'}}], 'ph': {'value': 13, 'uncertainty': 'none'}, 'temperature': {'value': 298.15, 'unit': 'K'}}, 'electrodes': {'configuration': 'three', 'reference electrode': {'type': 'RHE', 'source': {'supplier': 'homemade'}}, 'counter electrode': {'material': 'Au', 'crystallographic orientation': 'poly', 'shape': 'mesh'}, 'working electrode': {'material': 'Cu', 'crystallographic orientation': 100, 'source': {'supplier': 'Mateck', 'LOT': None}, 'shape': {'type': 'head shaped', 'height': {'value': 2, 'unit': 'mm'}, 'diameter': {'value': 4.4, 'unit': 'mm'}}, 'geometric electrolyte contact area': {'value': None, 'unit': 'cm-2'}, 'preparation procedure': 'sputter and heating under UHV conditions'}}}}\n",
      "dict_keys(['version', 'source', 'curator', 'figure description', 'electrochemical system', 'profile'])\n",
      "Engstfeld_2018_polycrystalline_17743_4b_1 Engstfeld_2018_polycrystalline_17743_4b_1.csv {'fields': [{'name': 't', 'type': 'number', 'format': 'default'}, {'name': 'U', 'type': 'number', 'format': 'default'}, {'name': 'j', 'type': 'number', 'format': 'default'}], 'missingValues': ['']}\n"
     ]
    }
   ],
   "source": [
    "\n",
    "sampling_interval = 1\n",
    "\n",
    "target = \"Engstfeld_2018_polycrystalline_17743_4b_1\"\n",
    "\n",
    "targetf = target + \".svg\"\n",
    "targety = target + \".yaml\"\n",
    "\n",
    "export_datapackage(targetf, sampling_interval, targety)"
   ]
  },
  {
   "cell_type": "code",
   "execution_count": 51,
   "id": "9ba37af3",
   "metadata": {},
   "outputs": [
    {
     "name": "stdout",
     "output_type": "stream",
     "text": [
      "dict_keys(['curator', 'electrochemical system', 'source', 'version', 'figure description', 'profile', 'resources'])\n"
     ]
    },
    {
     "data": {
      "text/plain": [
       "dict"
      ]
     },
     "execution_count": 51,
     "metadata": {},
     "output_type": "execute_result"
    }
   ],
   "source": [
    "    \n",
    "\n",
    "\n",
    "p = Package(\"briega-martos_2021_cation_XXX_p2_Fig1_Na_4.4.json\")\n",
    "\n",
    "print(p.descriptor.keys())\n",
    "\n",
    "type(p.descriptor)\n",
    "\n",
    "\n",
    "\n"
   ]
  },
  {
   "cell_type": "code",
   "execution_count": 34,
   "id": "fbc5fda9",
   "metadata": {},
   "outputs": [],
   "source": []
  },
  {
   "cell_type": "code",
   "execution_count": 43,
   "id": "3ddd26d6",
   "metadata": {},
   "outputs": [
    {
     "name": "stdout",
     "output_type": "stream",
     "text": [
      "dict_keys(['curator', 'electrochemical system', 'source', 'version', 'figure description', 'profile', 'resources'])\n",
      "briega-martos_2021_cation_XXX_p2_Fig1_Na_4.4 briega-martos_2021_cation_XXX_p2_Fig1_Na_4.4.csv {'fields': [{'name': 't', 'type': 'number', 'format': 'default'}, {'name': 'U', 'type': 'number', 'format': 'default'}, {'name': 'j', 'type': 'number', 'format': 'default'}], 'missingValues': ['']}\n"
     ]
    },
    {
     "data": {
      "text/plain": [
       "dict"
      ]
     },
     "execution_count": 43,
     "metadata": {},
     "output_type": "execute_result"
    }
   ],
   "source": [
    "\n"
   ]
  },
  {
   "cell_type": "code",
   "execution_count": null,
   "id": "d9e9c80c",
   "metadata": {},
   "outputs": [],
   "source": []
  }
 ],
 "metadata": {
  "kernelspec": {
   "display_name": "Python 3 (ipykernel)",
   "language": "python",
   "name": "python3"
  },
  "language_info": {
   "codemirror_mode": {
    "name": "ipython",
    "version": 3
   },
   "file_extension": ".py",
   "mimetype": "text/x-python",
   "name": "python",
   "nbconvert_exporter": "python",
   "pygments_lexer": "ipython3",
   "version": "3.9.7"
  }
 },
 "nbformat": 4,
 "nbformat_minor": 5
}
